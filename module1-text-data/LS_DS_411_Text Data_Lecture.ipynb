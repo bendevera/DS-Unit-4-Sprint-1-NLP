{
 "cells": [
  {
   "cell_type": "markdown",
   "metadata": {
    "toc-hr-collapsed": false
   },
   "source": [
    "Lambda School Data Science\n",
    "\n",
    "*Unit 4, Sprint 1, Module 1*\n",
    "\n",
    "---\n",
    "<h1 id=\"moduleTitle\"> Natural Language Processing Introduction (Prepare)</h1>\n",
    "\n",
    "\"Natural\" meaning - not computer languages but spoken/written human languages. The hard thing about NLP is that human languages are far less structured or consistent than computer languages. This is perhaps the largest source of difficulty when trying to get computers to \"understand\" human languages. How do you get a machine to understand sarcasm, and irony, and synonyms, connotation, denotation, nuance, and tone of voice --all without it having lived a lifetime of experience for context? If you think about it, our human brains have been exposed to quite a lot of training data to help us interpret languages, and even then we misunderstand each other pretty frequently. \n",
    "    \n",
    "\n",
    "<h2 id='moduleObjectives'>Learning Objectives</h2>\n",
    "\n",
    "By the end of end of this module, a student should be able to:\n",
<<<<<<< HEAD
    "* <a href=\"#p1\">Objective 1</a>: Tokenze text\n",
=======
    "* <a href=\"#p1\">Objective 1</a>: Tokenize text\n",
>>>>>>> 12467e3600c3f6b9373a65821d6283170bbb49be
    "* <a href=\"#p1\">Objective 2</a>: Remove stop words from text\n",
    "* <a href=\"#p3\">Objective 3</a>: Perform stemming and lemmatization on tokens\n",
    "\n",
    "## Conda Environments\n",
    "\n",
    "You will be completing each module this sprint on your machine. We will be using conda environments to manage the packages and their dependencies for this sprint's content. In a classroom setting, instructors typically abstract away environment for you. However, environment management is an important professional data science skill. We showed you how to manage environments using pipvirtual env during Unit 3, but in this sprint, we will introduce an environment management tool common in the data science community: \n",
    "\n",
    "> __conda__: Package, dependency and environment management for any language—Python, R, Ruby, Lua, Scala, Java, JavaScript, C/ C++, FORTRAN, and more.\n",
    "\n",
    "The easiest way to install conda on your machine is via the [Anaconda Distribution](https://www.anaconda.com/distribution/) of Python & R. Once you have conda installed, read [\"A Guide to Conda Environments\"](https://towardsdatascience.com/a-guide-to-conda-environments-bc6180fc533). This article will provide an introduce into some of the conda basics. If you need some additional help getting started, the official [\"Setting started with conda\"](https://conda.io/projects/conda/en/latest/user-guide/getting-started.html) guide will point you in the right direction. \n",
    "\n",
    ":snake: \n",
    "\n",
    "To get the sprint environment setup: \n",
    "\n",
    "1. Open your command line tool (Terminal for MacOS, Anaconda Prompt for Windows)\n",
    "2. Navigate to the folder with this sprint's content. There should be a `requirements.txt`\n",
    "3. Run `conda create -n U4-S1-NLP python==3.7` => You can also rename the environment if you would like. Once the command completes, your conda environment should be ready.\n",
    "4. Now, we are going to add in the require python packages for this sprint. You will need to 'activate' the conda environment: `source activate U4-S1-NLP` on Terminal or `conda activate U4-S1-NLP` on Anaconda Prompt. Once your environment is activate, run `pip install -r requirements.txt` which will install the required packages into your environment.\n",
    "5. We are going to also add an Ipython Kernel reference to your conda environment, so we can use it from JupyterLab. \n",
    "6. Next run `python -m ipykernel install --user --name U4-S1-NLP --display-name \"U4-S1-NLP (Python3)\"` => This will add a json object to an ipython file, so JupterLab will know that it can use this isolated instance of Python. :) \n",
    "7. Last step, we need to install the models for Spacy. Run these commands `python -m spacy download en_core_web_md` and `python -m spacy download en_core_web_lg`\n",
<<<<<<< HEAD
    "8. Deactivate your conda environment and launch JupyterLab. You should know see \"U4-S1-NLP (Python3)\" in the list of available kernels on launch screen. \n"
=======
    "8. Deactivate your conda environment and launch JupyterLab. You should know see \"U4-S1-NLP (Python3)\" in the list of available kernels on launch screen. "
>>>>>>> 12467e3600c3f6b9373a65821d6283170bbb49be
   ]
  },
  {
   "cell_type": "markdown",
   "metadata": {
    "toc-hr-collapsed": false
   },
   "source": [
    "# Tokenze Text (Learn)\n",
    "<a id=\"p1\"></a>"
   ]
  },
  {
   "cell_type": "markdown",
   "metadata": {
    "toc-hr-collapsed": true
   },
   "source": [
    "## Overview\n",
    "\n",
    "> **token**: an instance of a sequence of characters in some particular document that are grouped together as a useful semantic unit for processing\n",
    "\n",
    "> [_*Introduction to Information Retrival*_](https://nlp.stanford.edu/IR-book/)\n",
    "\n",
    "\n",
    "### The attributes of good tokens\n",
    "\n",
<<<<<<< HEAD
    "* Should be stored in an iterable datastructure\n",
=======
    "* Should be stored in an iterable data structure\n",
>>>>>>> 12467e3600c3f6b9373a65821d6283170bbb49be
    "  - Allows analysis of the \"semantic unit\"\n",
    "* Should be all the same case\n",
    "  - Reduces the complexity of our data\n",
    "* Should be free of non-alphanumeric characters (ie punctuation, whitespace)\n",
    "  - Removes information that is probably not relevant to the analysis"
   ]
  },
  {
   "cell_type": "markdown",
   "metadata": {},
   "source": [
    "Let's pretend we are trying analyze the random sequence here. Question: what is the most common character in this sequence?"
   ]
  },
  {
   "cell_type": "code",
<<<<<<< HEAD
   "execution_count": 1,
=======
   "execution_count": null,
>>>>>>> 12467e3600c3f6b9373a65821d6283170bbb49be
   "metadata": {},
   "outputs": [],
   "source": [
    "random_seq = \"AABAAFBBBBCGCDDEEEFCFFDFFAFFZFGGGGHEAFJAAZBBFCZ\""
   ]
  },
  {
   "cell_type": "markdown",
   "metadata": {},
   "source": [
    "A useful unit of analysis for us is going to be a letter or character"
   ]
  },
  {
   "cell_type": "code",
<<<<<<< HEAD
   "execution_count": 2,
   "metadata": {},
   "outputs": [
    {
     "name": "stdout",
     "output_type": "stream",
     "text": [
      "['A', 'A', 'B', 'A', 'A', 'F', 'B', 'B', 'B', 'B', 'C', 'G', 'C', 'D', 'D', 'E', 'E', 'E', 'F', 'C', 'F', 'F', 'D', 'F', 'F', 'A', 'F', 'F', 'Z', 'F', 'G', 'G', 'G', 'G', 'H', 'E', 'A', 'F', 'J', 'A', 'A', 'Z', 'B', 'B', 'F', 'C', 'Z']\n"
     ]
    }
   ],
=======
   "execution_count": null,
   "metadata": {},
   "outputs": [],
>>>>>>> 12467e3600c3f6b9373a65821d6283170bbb49be
   "source": [
    "tokens = list(random_seq)\n",
    "print(tokens)"
   ]
  },
  {
   "cell_type": "markdown",
   "metadata": {},
   "source": [
<<<<<<< HEAD
    "Our tokens are already \"good\": in an iterable datastructure, all the same case, and free of noise characters (punctionation, whitespace), so we can jump straight into analysis."
=======
    "Our tokens are already \"good\": in an iterable datastructure, all the same case, and free of noise characters (punctuation, whitespace), so we can jump straight into analysis."
>>>>>>> 12467e3600c3f6b9373a65821d6283170bbb49be
   ]
  },
  {
   "cell_type": "code",
<<<<<<< HEAD
   "execution_count": 3,
   "metadata": {},
   "outputs": [
    {
     "data": {
      "image/png": "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\n",
      "text/plain": [
       "<Figure size 432x288 with 1 Axes>"
      ]
     },
     "metadata": {
      "needs_background": "light"
     },
     "output_type": "display_data"
    }
   ],
=======
   "execution_count": null,
   "metadata": {},
   "outputs": [],
>>>>>>> 12467e3600c3f6b9373a65821d6283170bbb49be
   "source": [
    "import seaborn as sns\n",
    "\n",
    "sns.countplot(tokens);"
   ]
  },
  {
   "cell_type": "markdown",
   "metadata": {},
   "source": [
    "The most common character in our sequence is  \"F\". We can't just glance at the the sequence to know which character is the most common. We (humans) struggle to subitize complex data (like random text sequences).\n",
    "\n",
    "> __Subitize__ is the ability to tell the number of objects in a set, quickly, without counting.  \n",
    "\n",
    "We need to chunk the data into countable pieces \"tokens\" for us to analyze them. This inability subitize text data is the motivation for our discussion today."
   ]
  },
  {
   "cell_type": "markdown",
   "metadata": {
    "toc-hr-collapsed": true
   },
   "source": [
    "### Tokenizing with Pure Python"
   ]
  },
  {
   "cell_type": "code",
<<<<<<< HEAD
   "execution_count": 4,
=======
   "execution_count": null,
>>>>>>> 12467e3600c3f6b9373a65821d6283170bbb49be
   "metadata": {},
   "outputs": [],
   "source": [
    "sample = \"Friends, Romans, countrymen, lend me your ears;\""
   ]
  },
  {
   "cell_type": "markdown",
   "metadata": {},
   "source": [
    "##### Iterable Tokens\n",
    "\n",
    "A string object in Python is already iterable. However, the item you iterate over is a character not a token:\n",
    "\n",
    "```\n",
    "from time import sleep\n",
    "for num, character in enumerate(sample):\n",
    "    sleep(.5)\n",
    "    print(f\"Char {num} - {character}\", end=\"\\r\")\n",
    "```\n",
    "\n",
<<<<<<< HEAD
    "If we instead care about the words in our sample (our semantic unit), we can use the string method `.split()` to seperate the whitespace and create iterable units. :)"
=======
    "If we instead care about the words in our sample (our semantic unit), we can use the string method `.split()` to separate the whitespace and create iterable units. :)"
>>>>>>> 12467e3600c3f6b9373a65821d6283170bbb49be
   ]
  },
  {
   "cell_type": "code",
<<<<<<< HEAD
   "execution_count": 5,
   "metadata": {},
   "outputs": [
    {
     "data": {
      "text/plain": [
       "['Friends,', 'Romans,', 'countrymen,', 'lend', 'me', 'your', 'ears;']"
      ]
     },
     "execution_count": 5,
     "metadata": {},
     "output_type": "execute_result"
    }
   ],
=======
   "execution_count": null,
   "metadata": {},
   "outputs": [],
>>>>>>> 12467e3600c3f6b9373a65821d6283170bbb49be
   "source": [
    "sample.split(\" \")"
   ]
  },
  {
   "cell_type": "markdown",
   "metadata": {},
   "source": [
    "##### Case Normalization\n",
    "A common data cleaning data cleaning task with token is to standardize or normalize the case. Normalizing case reduces the chance that you have duplicate records for things which have practically the same semantic meaning. You can use either the `.lower()` or `.upper()` string methods to normalize case.\n",
    "\n",
    "Consider the following example: "
   ]
  },
  {
   "cell_type": "code",
<<<<<<< HEAD
   "execution_count": 6,
=======
   "execution_count": null,
>>>>>>> 12467e3600c3f6b9373a65821d6283170bbb49be
   "metadata": {},
   "outputs": [],
   "source": [
    "import pandas as pd\n",
    "df = pd.read_csv('./data/Datafiniti_Amazon_Consumer_Reviews_of_Amazon_Products_May19.csv')"
   ]
  },
  {
   "cell_type": "code",
<<<<<<< HEAD
   "execution_count": 7,
   "metadata": {},
   "outputs": [
    {
     "data": {
      "text/plain": [
       "Amazon          16153\n",
       "Amazonbasics    12169\n",
       "AmazonBasics       10\n",
       "Name: brand, dtype: int64"
      ]
     },
     "execution_count": 7,
     "metadata": {},
     "output_type": "execute_result"
    }
   ],
=======
   "execution_count": null,
   "metadata": {},
   "outputs": [],
>>>>>>> 12467e3600c3f6b9373a65821d6283170bbb49be
   "source": [
    "# Notice anything odd here? \n",
    "df['brand'].value_counts()"
   ]
  },
  {
   "cell_type": "code",
<<<<<<< HEAD
   "execution_count": 8,
   "metadata": {},
   "outputs": [
    {
     "data": {
      "text/plain": [
       "amazon          16153\n",
       "amazonbasics    12179\n",
       "Name: brand, dtype: int64"
      ]
     },
     "execution_count": 8,
     "metadata": {},
     "output_type": "execute_result"
    }
   ],
=======
   "execution_count": null,
   "metadata": {},
   "outputs": [],
>>>>>>> 12467e3600c3f6b9373a65821d6283170bbb49be
   "source": [
    "# Much cleaner\n",
    "df['brand'] = df['brand'].apply(lambda x: x.lower())\n",
    "df['brand'].value_counts()"
   ]
  },
  {
   "cell_type": "markdown",
   "metadata": {},
   "source": [
    "##### Keep Only Alphanumeric Characters\n",
<<<<<<< HEAD
    "Yes, we only want letters and numbers. Everything else is probably noise: punctionation, whitespace, and other notation. This one is little bit more complicatd than our previous example. Here we will have to import the base package `re` (regular expressions). \n",
=======
    "Yes, we only want letters and numbers. Everything else is probably noise: punctuation, whitespace, and other notation. This one is little bit more complicated than our previous example. Here we will have to import the base package `re` (regular expressions). \n",
>>>>>>> 12467e3600c3f6b9373a65821d6283170bbb49be
    "\n",
    "The only regex expression pattern you need for this is `'[^a-zA-Z ^0-9]'` which keeps lower case letters, upper case letters, spaces, and numbers."
   ]
  },
  {
   "cell_type": "code",
<<<<<<< HEAD
   "execution_count": 9,
   "metadata": {},
   "outputs": [
    {
     "name": "stdout",
     "output_type": "stream",
     "text": [
      "Friends, Romans, countrymen, lend me your ears; 911\n"
     ]
    }
   ],
=======
   "execution_count": null,
   "metadata": {},
   "outputs": [],
>>>>>>> 12467e3600c3f6b9373a65821d6283170bbb49be
   "source": [
    "sample = sample+\" 911\"\n",
    "print(sample)"
   ]
  },
  {
   "cell_type": "code",
<<<<<<< HEAD
   "execution_count": 10,
   "metadata": {},
   "outputs": [
    {
     "data": {
      "text/plain": [
       "'Friends Romans countrymen lend me your ears 911'"
      ]
     },
     "execution_count": 10,
     "metadata": {},
     "output_type": "execute_result"
    }
   ],
=======
   "execution_count": null,
   "metadata": {},
   "outputs": [],
>>>>>>> 12467e3600c3f6b9373a65821d6283170bbb49be
   "source": [
    "import re\n",
    "\n",
    "re.sub(r'[^a-zA-Z ^0-9]', '', sample)"
   ]
  },
  {
   "cell_type": "markdown",
   "metadata": {},
   "source": [
    "#### Two Minute Challenge \n",
    "- Complete the function `tokenize` below\n",
    "- Combine the methods which we discussed above to clean text before we analyze it\n",
    "- You can put the methods in any order you want"
   ]
  },
  {
   "cell_type": "code",
<<<<<<< HEAD
   "execution_count": 11,
=======
   "execution_count": null,
>>>>>>> 12467e3600c3f6b9373a65821d6283170bbb49be
   "metadata": {},
   "outputs": [],
   "source": [
    "def tokenize(text):\n",
    "    \"\"\"Parses a string into a list of semantic units (words)\n",
    "\n",
    "    Args:\n",
    "        text (str): The string that the function will tokenize.\n",
    "\n",
    "    Returns:\n",
    "        list: tokens parsed out by the mechanics of your choice\n",
    "    \"\"\"\n",
    "    \n",
    "    tokens = re.sub(r'[^a-zA-Z ^0-9]', '', text)\n",
    "    tokens = tokens.lower().split()\n",
    "    \n",
    "    return tokens"
   ]
  },
  {
   "cell_type": "code",
<<<<<<< HEAD
   "execution_count": 12,
   "metadata": {},
   "outputs": [
    {
     "data": {
      "text/plain": [
       "['friends', 'romans', 'countrymen', 'lend', 'me', 'your', 'ears', '911']"
      ]
     },
     "execution_count": 12,
     "metadata": {},
     "output_type": "execute_result"
    }
   ],
=======
   "execution_count": null,
   "metadata": {},
   "outputs": [],
>>>>>>> 12467e3600c3f6b9373a65821d6283170bbb49be
   "source": [
    "tokenize(sample)"
   ]
  },
  {
   "cell_type": "markdown",
   "metadata": {
    "toc-hr-collapsed": true
   },
   "source": [
    "## Follow Along\n",
    "\n",
<<<<<<< HEAD
    "Our inability to analyze text data becomes quickly amphilfied in business context. Consider the following: \n",
=======
    "Our inability to analyze text data becomes quickly amplified in a business context. Consider the following: \n",
>>>>>>> 12467e3600c3f6b9373a65821d6283170bbb49be
    "\n",
    "A business which sells widgets also collects customer reviews of those widgets. When the business first started out, they had a human read the reviews to look for patterns. Now, the business sells thousands of widgets a month. The human readers can't keep up with the pace of reviews to synthesize an accurate analysis. They need some science to help them analyze their data.\n",
    "\n",
    "Now, let's pretend that business is Amazon, and the widgets are Amazon products such as the Alexa, Echo, or other AmazonBasics products. Let's analyze their reviews with some counts. This dataset is available on [Kaggle](https://www.kaggle.com/datafiniti/consumer-reviews-of-amazon-products/)."
   ]
  },
  {
   "cell_type": "code",
<<<<<<< HEAD
   "execution_count": 13,
=======
   "execution_count": null,
>>>>>>> 12467e3600c3f6b9373a65821d6283170bbb49be
   "metadata": {},
   "outputs": [],
   "source": [
    "\"\"\"\n",
    "Import Statements\n",
    "\"\"\"\n",
    "\n",
    "# Base\n",
    "from collections import Counter\n",
    "import re\n",
    " \n",
    "import pandas as pd\n",
    "\n",
    "# Plotting\n",
    "import squarify\n",
    "import matplotlib.pyplot as plt\n",
    "import seaborn as sns\n",
    "\n",
    "# NLP Libraries\n",
    "import spacy\n",
    "from spacy.tokenizer import Tokenizer\n",
    "from nltk.stem import PorterStemmer\n",
    "\n",
    "nlp = spacy.load(\"en_core_web_lg\")"
   ]
  },
  {
   "cell_type": "code",
<<<<<<< HEAD
   "execution_count": 14,
   "metadata": {},
   "outputs": [
    {
     "data": {
      "text/html": [
       "<div>\n",
       "<style scoped>\n",
       "    .dataframe tbody tr th:only-of-type {\n",
       "        vertical-align: middle;\n",
       "    }\n",
       "\n",
       "    .dataframe tbody tr th {\n",
       "        vertical-align: top;\n",
       "    }\n",
       "\n",
       "    .dataframe thead th {\n",
       "        text-align: right;\n",
       "    }\n",
       "</style>\n",
       "<table border=\"1\" class=\"dataframe\">\n",
       "  <thead>\n",
       "    <tr style=\"text-align: right;\">\n",
       "      <th></th>\n",
       "      <th>id</th>\n",
       "      <th>dateAdded</th>\n",
       "      <th>dateUpdated</th>\n",
       "      <th>name</th>\n",
       "      <th>asins</th>\n",
       "      <th>brand</th>\n",
       "      <th>categories</th>\n",
       "      <th>primaryCategories</th>\n",
       "      <th>imageURLs</th>\n",
       "      <th>keys</th>\n",
       "      <th>...</th>\n",
       "      <th>reviews.didPurchase</th>\n",
       "      <th>reviews.doRecommend</th>\n",
       "      <th>reviews.id</th>\n",
       "      <th>reviews.numHelpful</th>\n",
       "      <th>reviews.rating</th>\n",
       "      <th>reviews.sourceURLs</th>\n",
       "      <th>reviews.text</th>\n",
       "      <th>reviews.title</th>\n",
       "      <th>reviews.username</th>\n",
       "      <th>sourceURLs</th>\n",
       "    </tr>\n",
       "  </thead>\n",
       "  <tbody>\n",
       "    <tr>\n",
       "      <th>0</th>\n",
       "      <td>AVpgNzjwLJeJML43Kpxn</td>\n",
       "      <td>2015-10-30T08:59:32Z</td>\n",
       "      <td>2019-04-25T09:08:16Z</td>\n",
       "      <td>AmazonBasics AAA Performance Alkaline Batterie...</td>\n",
       "      <td>B00QWO9P0O,B00LH3DMUO</td>\n",
       "      <td>amazonbasics</td>\n",
       "      <td>AA,AAA,Health,Electronics,Health &amp; Household,C...</td>\n",
       "      <td>Health &amp; Beauty</td>\n",
       "      <td>https://images-na.ssl-images-amazon.com/images...</td>\n",
       "      <td>amazonbasics/hl002619,amazonbasicsaaaperforman...</td>\n",
       "      <td>...</td>\n",
       "      <td>NaN</td>\n",
       "      <td>NaN</td>\n",
       "      <td>NaN</td>\n",
       "      <td>NaN</td>\n",
       "      <td>3</td>\n",
       "      <td>https://www.amazon.com/product-reviews/B00QWO9...</td>\n",
       "      <td>I order 3 of them and one of the item is bad q...</td>\n",
       "      <td>... 3 of them and one of the item is bad quali...</td>\n",
       "      <td>Byger yang</td>\n",
       "      <td>https://www.barcodable.com/upc/841710106442,ht...</td>\n",
       "    </tr>\n",
       "    <tr>\n",
       "      <th>1</th>\n",
       "      <td>AVpgNzjwLJeJML43Kpxn</td>\n",
       "      <td>2015-10-30T08:59:32Z</td>\n",
       "      <td>2019-04-25T09:08:16Z</td>\n",
       "      <td>AmazonBasics AAA Performance Alkaline Batterie...</td>\n",
       "      <td>B00QWO9P0O,B00LH3DMUO</td>\n",
       "      <td>amazonbasics</td>\n",
       "      <td>AA,AAA,Health,Electronics,Health &amp; Household,C...</td>\n",
       "      <td>Health &amp; Beauty</td>\n",
       "      <td>https://images-na.ssl-images-amazon.com/images...</td>\n",
       "      <td>amazonbasics/hl002619,amazonbasicsaaaperforman...</td>\n",
       "      <td>...</td>\n",
       "      <td>NaN</td>\n",
       "      <td>NaN</td>\n",
       "      <td>NaN</td>\n",
       "      <td>NaN</td>\n",
       "      <td>4</td>\n",
       "      <td>https://www.amazon.com/product-reviews/B00QWO9...</td>\n",
       "      <td>Bulk is always the less expensive way to go fo...</td>\n",
       "      <td>... always the less expensive way to go for pr...</td>\n",
       "      <td>ByMG</td>\n",
       "      <td>https://www.barcodable.com/upc/841710106442,ht...</td>\n",
       "    </tr>\n",
       "  </tbody>\n",
       "</table>\n",
       "<p>2 rows × 24 columns</p>\n",
       "</div>"
      ],
      "text/plain": [
       "                     id             dateAdded           dateUpdated  \\\n",
       "0  AVpgNzjwLJeJML43Kpxn  2015-10-30T08:59:32Z  2019-04-25T09:08:16Z   \n",
       "1  AVpgNzjwLJeJML43Kpxn  2015-10-30T08:59:32Z  2019-04-25T09:08:16Z   \n",
       "\n",
       "                                                name                  asins  \\\n",
       "0  AmazonBasics AAA Performance Alkaline Batterie...  B00QWO9P0O,B00LH3DMUO   \n",
       "1  AmazonBasics AAA Performance Alkaline Batterie...  B00QWO9P0O,B00LH3DMUO   \n",
       "\n",
       "          brand                                         categories  \\\n",
       "0  amazonbasics  AA,AAA,Health,Electronics,Health & Household,C...   \n",
       "1  amazonbasics  AA,AAA,Health,Electronics,Health & Household,C...   \n",
       "\n",
       "  primaryCategories                                          imageURLs  \\\n",
       "0   Health & Beauty  https://images-na.ssl-images-amazon.com/images...   \n",
       "1   Health & Beauty  https://images-na.ssl-images-amazon.com/images...   \n",
       "\n",
       "                                                keys  ... reviews.didPurchase  \\\n",
       "0  amazonbasics/hl002619,amazonbasicsaaaperforman...  ...                 NaN   \n",
       "1  amazonbasics/hl002619,amazonbasicsaaaperforman...  ...                 NaN   \n",
       "\n",
       "  reviews.doRecommend reviews.id reviews.numHelpful reviews.rating  \\\n",
       "0                 NaN        NaN                NaN              3   \n",
       "1                 NaN        NaN                NaN              4   \n",
       "\n",
       "                                  reviews.sourceURLs  \\\n",
       "0  https://www.amazon.com/product-reviews/B00QWO9...   \n",
       "1  https://www.amazon.com/product-reviews/B00QWO9...   \n",
       "\n",
       "                                        reviews.text  \\\n",
       "0  I order 3 of them and one of the item is bad q...   \n",
       "1  Bulk is always the less expensive way to go fo...   \n",
       "\n",
       "                                       reviews.title  reviews.username  \\\n",
       "0  ... 3 of them and one of the item is bad quali...        Byger yang   \n",
       "1  ... always the less expensive way to go for pr...              ByMG   \n",
       "\n",
       "                                          sourceURLs  \n",
       "0  https://www.barcodable.com/upc/841710106442,ht...  \n",
       "1  https://www.barcodable.com/upc/841710106442,ht...  \n",
       "\n",
       "[2 rows x 24 columns]"
      ]
     },
     "execution_count": 14,
     "metadata": {},
     "output_type": "execute_result"
    }
   ],
=======
   "execution_count": null,
   "metadata": {},
   "outputs": [],
>>>>>>> 12467e3600c3f6b9373a65821d6283170bbb49be
   "source": [
    "df.head(2)"
   ]
  },
  {
   "cell_type": "code",
<<<<<<< HEAD
   "execution_count": 15,
   "metadata": {},
   "outputs": [
    {
     "data": {
      "text/plain": [
       "good                0.002118\n",
       "great               0.001729\n",
       "Good                0.001482\n",
       "Great               0.001341\n",
       "ok                  0.001165\n",
       "Great price         0.001059\n",
       "Excellent           0.000988\n",
       "great price         0.000988\n",
       "Great value         0.000953\n",
       "good price          0.000812\n",
       "great value         0.000777\n",
       "Great price!        0.000635\n",
       "good value          0.000600\n",
       "good deal           0.000565\n",
       "Great value.        0.000565\n",
       "Great deal          0.000529\n",
       "As expected         0.000529\n",
       "OK                  0.000529\n",
       "Good deal           0.000529\n",
       "Great product       0.000529\n",
       "Good value          0.000494\n",
       "Good batteries      0.000494\n",
       "Great value!        0.000459\n",
       "Good price          0.000459\n",
       "So far so good      0.000459\n",
       "great deal          0.000459\n",
       "Great batteries.    0.000459\n",
       "Good buy            0.000424\n",
       "Work great          0.000424\n",
       "very good           0.000388\n",
       "As described        0.000388\n",
       "excellent           0.000388\n",
       "as expected         0.000388\n",
       "Great deal!         0.000388\n",
       "good batteries      0.000388\n",
       "Great buy           0.000388\n",
       "Great!              0.000388\n",
       "Great price.        0.000388\n",
       "Great batteries     0.000388\n",
       "Good value.         0.000388\n",
       "Perfect!            0.000353\n",
       "Work great.         0.000353\n",
       "Nice                0.000353\n",
       "great batteries     0.000353\n",
       "good product        0.000353\n",
       "Ok                  0.000353\n",
       "Great product.      0.000318\n",
       "Good price.         0.000318\n",
       "Great buy!          0.000318\n",
       "Thanks              0.000318\n",
       "Name: reviews.text, dtype: float64"
      ]
     },
     "execution_count": 15,
     "metadata": {},
     "output_type": "execute_result"
    }
   ],
=======
   "execution_count": null,
   "metadata": {},
   "outputs": [],
   "source": [
    "df.shape"
   ]
  },
  {
   "cell_type": "code",
   "execution_count": null,
   "metadata": {},
   "outputs": [],
>>>>>>> 12467e3600c3f6b9373a65821d6283170bbb49be
   "source": [
    "# How can we count the raw text?\n",
    "df['reviews.text'].value_counts(normalize=True)[:50]"
   ]
  },
  {
   "cell_type": "code",
<<<<<<< HEAD
   "execution_count": 16,
=======
   "execution_count": null,
>>>>>>> 12467e3600c3f6b9373a65821d6283170bbb49be
   "metadata": {},
   "outputs": [],
   "source": [
    "df['tokens'] = df['reviews.text'].apply(tokenize)"
   ]
  },
  {
   "cell_type": "code",
<<<<<<< HEAD
   "execution_count": 17,
   "metadata": {},
   "outputs": [
    {
     "data": {
      "text/plain": [
       "0    [i, order, 3, of, them, and, one, of, the, ite...\n",
       "1    [bulk, is, always, the, less, expensive, way, ...\n",
       "2    [well, they, are, not, duracell, but, for, the...\n",
       "3    [seem, to, work, as, well, as, name, brand, ba...\n",
       "4    [these, batteries, are, very, long, lasting, t...\n",
       "Name: tokens, dtype: object"
      ]
     },
     "execution_count": 17,
     "metadata": {},
     "output_type": "execute_result"
    }
   ],
=======
   "execution_count": null,
   "metadata": {},
   "outputs": [],
>>>>>>> 12467e3600c3f6b9373a65821d6283170bbb49be
   "source": [
    "df['tokens'].head()"
   ]
  },
  {
<<<<<<< HEAD
=======
   "cell_type": "code",
   "execution_count": null,
   "metadata": {},
   "outputs": [],
   "source": [
    "df[['reviews.text', 'tokens']][:10]"
   ]
  },
  {
   "cell_type": "code",
   "execution_count": null,
   "metadata": {},
   "outputs": [],
   "source": [
    "df['primaryCategories'].value_counts()"
   ]
  },
  {
   "cell_type": "code",
   "execution_count": null,
   "metadata": {},
   "outputs": [],
   "source": [
    "df = df[df['primaryCategories'] == 'Electronics'].copy()"
   ]
  },
  {
   "cell_type": "code",
   "execution_count": null,
   "metadata": {},
   "outputs": [],
   "source": [
    "df.head()"
   ]
  },
  {
>>>>>>> 12467e3600c3f6b9373a65821d6283170bbb49be
   "cell_type": "markdown",
   "metadata": {},
   "source": [
    "#### Analyzing Tokens"
   ]
  },
  {
   "cell_type": "code",
<<<<<<< HEAD
   "execution_count": 18,
   "metadata": {},
   "outputs": [
    {
     "data": {
      "text/plain": [
       "[('the', 28836),\n",
       " ('and', 22302),\n",
       " ('i', 20588),\n",
       " ('to', 19537),\n",
       " ('for', 17918),\n",
       " ('a', 17599),\n",
       " ('it', 16793),\n",
       " ('is', 11482),\n",
       " ('my', 11149),\n",
       " ('this', 10420)]"
      ]
     },
     "execution_count": 18,
     "metadata": {},
     "output_type": "execute_result"
    }
   ],
=======
   "execution_count": null,
   "metadata": {},
   "outputs": [],
>>>>>>> 12467e3600c3f6b9373a65821d6283170bbb49be
   "source": [
    "# Object from Base Python\n",
    "from collections import Counter\n",
    "\n",
    "# The object `Counter` takes an iterable, but you can instaniate an empty one and update it. \n",
    "word_counts = Counter()\n",
    "\n",
    "# Update it based on a split of each of our documents\n",
    "df['tokens'].apply(lambda x: word_counts.update(x))\n",
    "\n",
    "# Print out the 10 most common words\n",
    "word_counts.most_common(10)"
   ]
  },
  {
   "cell_type": "markdown",
   "metadata": {},
   "source": [
    "Let's create a fuction which takes a corpus of document and returns and dataframe of word counts for us to analyze."
   ]
  },
  {
   "cell_type": "code",
<<<<<<< HEAD
   "execution_count": 19,
=======
   "execution_count": null,
>>>>>>> 12467e3600c3f6b9373a65821d6283170bbb49be
   "metadata": {},
   "outputs": [],
   "source": [
    "def count(docs):\n",
    "\n",
    "        word_counts = Counter()\n",
    "        appears_in = Counter()\n",
    "        \n",
    "        total_docs = len(docs)\n",
    "\n",
    "        for doc in docs:\n",
    "            word_counts.update(doc)\n",
    "            appears_in.update(set(doc))\n",
    "\n",
    "        temp = zip(word_counts.keys(), word_counts.values())\n",
    "        \n",
    "        wc = pd.DataFrame(temp, columns = ['word', 'count'])\n",
    "\n",
    "        wc['rank'] = wc['count'].rank(method='first', ascending=False)\n",
    "        total = wc['count'].sum()\n",
    "\n",
    "        wc['pct_total'] = wc['count'].apply(lambda x: x / total)\n",
    "        \n",
    "        wc = wc.sort_values(by='rank')\n",
    "        wc['cul_pct_total'] = wc['pct_total'].cumsum()\n",
    "\n",
    "        t2 = zip(appears_in.keys(), appears_in.values())\n",
    "        ac = pd.DataFrame(t2, columns=['word', 'appears_in'])\n",
    "        wc = ac.merge(wc, on='word')\n",
    "\n",
    "        wc['appears_in_pct'] = wc['appears_in'].apply(lambda x: x / total_docs)\n",
    "        \n",
    "        return wc.sort_values(by='rank')"
   ]
  },
  {
   "cell_type": "code",
<<<<<<< HEAD
   "execution_count": 20,
=======
   "execution_count": null,
>>>>>>> 12467e3600c3f6b9373a65821d6283170bbb49be
   "metadata": {},
   "outputs": [],
   "source": [
    "# Use the Function\n",
    "wc = count(df['tokens'])"
   ]
  },
  {
   "cell_type": "code",
<<<<<<< HEAD
   "execution_count": 21,
   "metadata": {},
   "outputs": [
    {
     "data": {
      "text/html": [
       "<div>\n",
       "<style scoped>\n",
       "    .dataframe tbody tr th:only-of-type {\n",
       "        vertical-align: middle;\n",
       "    }\n",
       "\n",
       "    .dataframe tbody tr th {\n",
       "        vertical-align: top;\n",
       "    }\n",
       "\n",
       "    .dataframe thead th {\n",
       "        text-align: right;\n",
       "    }\n",
       "</style>\n",
       "<table border=\"1\" class=\"dataframe\">\n",
       "  <thead>\n",
       "    <tr style=\"text-align: right;\">\n",
       "      <th></th>\n",
       "      <th>word</th>\n",
       "      <th>appears_in</th>\n",
       "      <th>count</th>\n",
       "      <th>rank</th>\n",
       "      <th>pct_total</th>\n",
       "      <th>cul_pct_total</th>\n",
       "      <th>appears_in_pct</th>\n",
       "    </tr>\n",
       "  </thead>\n",
       "  <tbody>\n",
       "    <tr>\n",
       "      <th>22</th>\n",
       "      <td>the</td>\n",
       "      <td>13185</td>\n",
       "      <td>28836</td>\n",
       "      <td>1.0</td>\n",
       "      <td>0.039350</td>\n",
       "      <td>0.039350</td>\n",
       "      <td>0.465375</td>\n",
       "    </tr>\n",
       "    <tr>\n",
       "      <th>13</th>\n",
       "      <td>and</td>\n",
       "      <td>13731</td>\n",
       "      <td>22302</td>\n",
       "      <td>2.0</td>\n",
       "      <td>0.030434</td>\n",
       "      <td>0.069784</td>\n",
       "      <td>0.484646</td>\n",
       "    </tr>\n",
       "    <tr>\n",
       "      <th>4</th>\n",
       "      <td>i</td>\n",
       "      <td>10301</td>\n",
       "      <td>20588</td>\n",
       "      <td>3.0</td>\n",
       "      <td>0.028095</td>\n",
       "      <td>0.097879</td>\n",
       "      <td>0.363582</td>\n",
       "    </tr>\n",
       "    <tr>\n",
       "      <th>19</th>\n",
       "      <td>to</td>\n",
       "      <td>11312</td>\n",
       "      <td>19537</td>\n",
       "      <td>4.0</td>\n",
       "      <td>0.026661</td>\n",
       "      <td>0.124539</td>\n",
       "      <td>0.399266</td>\n",
       "    </tr>\n",
       "    <tr>\n",
       "      <th>25</th>\n",
       "      <td>for</td>\n",
       "      <td>12101</td>\n",
       "      <td>17918</td>\n",
       "      <td>5.0</td>\n",
       "      <td>0.024451</td>\n",
       "      <td>0.148990</td>\n",
       "      <td>0.427114</td>\n",
       "    </tr>\n",
       "  </tbody>\n",
       "</table>\n",
       "</div>"
      ],
      "text/plain": [
       "   word  appears_in  count  rank  pct_total  cul_pct_total  appears_in_pct\n",
       "22  the       13185  28836   1.0   0.039350       0.039350        0.465375\n",
       "13  and       13731  22302   2.0   0.030434       0.069784        0.484646\n",
       "4     i       10301  20588   3.0   0.028095       0.097879        0.363582\n",
       "19   to       11312  19537   4.0   0.026661       0.124539        0.399266\n",
       "25  for       12101  17918   5.0   0.024451       0.148990        0.427114"
      ]
     },
     "execution_count": 21,
     "metadata": {},
     "output_type": "execute_result"
    }
   ],
=======
   "execution_count": null,
   "metadata": {},
   "outputs": [],
>>>>>>> 12467e3600c3f6b9373a65821d6283170bbb49be
   "source": [
    "wc.head()"
   ]
  },
  {
   "cell_type": "code",
<<<<<<< HEAD
   "execution_count": 22,
   "metadata": {},
   "outputs": [
    {
     "data": {
      "image/png": "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\n",
      "text/plain": [
       "<Figure size 432x288 with 1 Axes>"
      ]
     },
     "metadata": {
      "needs_background": "light"
     },
     "output_type": "display_data"
    }
   ],
=======
   "execution_count": null,
   "metadata": {},
   "outputs": [],
>>>>>>> 12467e3600c3f6b9373a65821d6283170bbb49be
   "source": [
    "import seaborn as sns\n",
    "\n",
    "# Cumulative Distribution Plot\n",
    "sns.lineplot(x='rank', y='cul_pct_total', data=wc);"
   ]
  },
  {
   "cell_type": "code",
<<<<<<< HEAD
   "execution_count": 23,
   "metadata": {},
   "outputs": [
    {
     "data": {
      "text/plain": [
       "0.3353465992363599"
      ]
     },
     "execution_count": 23,
     "metadata": {},
     "output_type": "execute_result"
    }
   ],
   "source": [
    "wc[wc['rank'] <= 20]['cul_pct_total'].max()"
=======
   "execution_count": null,
   "metadata": {},
   "outputs": [],
   "source": [
    "wc[wc['rank'] <= 100]['cul_pct_total'].max()"
>>>>>>> 12467e3600c3f6b9373a65821d6283170bbb49be
   ]
  },
  {
   "cell_type": "code",
<<<<<<< HEAD
   "execution_count": 24,
   "metadata": {},
   "outputs": [
    {
     "data": {
      "image/png": "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\n",
      "text/plain": [
       "<Figure size 432x288 with 1 Axes>"
      ]
     },
     "metadata": {
      "needs_background": "light"
     },
     "output_type": "display_data"
    }
   ],
=======
   "execution_count": null,
   "metadata": {},
   "outputs": [],
>>>>>>> 12467e3600c3f6b9373a65821d6283170bbb49be
   "source": [
    "import squarify\n",
    "import matplotlib.pyplot as plt\n",
    "\n",
    "wc_top20 = wc[wc['rank'] <= 20]\n",
    "\n",
    "squarify.plot(sizes=wc_top20['pct_total'], label=wc_top20['word'], alpha=.8 )\n",
    "plt.axis('off')\n",
    "plt.show()"
   ]
  },
  {
   "cell_type": "markdown",
   "metadata": {},
   "source": [
    "### Processing Raw Text with Spacy\n",
    "\n",
<<<<<<< HEAD
    "Spacy's datamodel for documents is unique among NLP libraries. Instead of storing the documents components repeatively in various datastructures, Spacy indexes components and simply stores the lookup informaiton. \n",
=======
    "Spacy's datamodel for documents is unique among NLP libraries. Instead of storing the documents components in various data structures, Spacy indexes components and simply stores the lookup information. \n",
>>>>>>> 12467e3600c3f6b9373a65821d6283170bbb49be
    "\n",
    "This is often why Spacy is considered to be more production grade than library like NLTK."
   ]
  },
  {
   "cell_type": "code",
<<<<<<< HEAD
   "execution_count": 25,
=======
   "execution_count": null,
>>>>>>> 12467e3600c3f6b9373a65821d6283170bbb49be
   "metadata": {},
   "outputs": [],
   "source": [
    "import spacy\n",
    "from spacy.tokenizer import Tokenizer\n",
    "\n",
    "nlp = spacy.load(\"en_core_web_lg\")\n",
    "\n",
    "# Tokenizer\n",
    "tokenizer = Tokenizer(nlp.vocab)"
   ]
  },
  {
   "cell_type": "code",
<<<<<<< HEAD
   "execution_count": 26,
   "metadata": {},
   "outputs": [
    {
     "data": {
      "text/plain": [
       "['Friends,', 'Romans,', 'countrymen,', 'lend', 'me', 'your', 'ears;', '911']"
      ]
     },
     "execution_count": 26,
     "metadata": {},
     "output_type": "execute_result"
    }
   ],
   "source": [
    "# Print out list of tokens\n",
=======
   "execution_count": null,
   "metadata": {},
   "outputs": [],
   "source": [
    "# Print out list of tokens\n",
    "sample = \"Friends, Romans, countrymen, lend me your ears;\"\n",
>>>>>>> 12467e3600c3f6b9373a65821d6283170bbb49be
    "[token.text for token in tokenizer(sample)]"
   ]
  },
  {
   "cell_type": "code",
<<<<<<< HEAD
   "execution_count": 27,
=======
   "execution_count": null,
>>>>>>> 12467e3600c3f6b9373a65821d6283170bbb49be
   "metadata": {},
   "outputs": [],
   "source": [
    "# Tokenizer Pipe\n",
    "\n",
    "tokens = []\n",
    "\n",
    "\"\"\" Make them tokens \"\"\"\n",
    "for doc in tokenizer.pipe(df['reviews.text'], batch_size=500):\n",
    "    doc_tokens = [token.text for token in doc]\n",
    "    tokens.append(doc_tokens)\n",
    "\n",
    "df['tokens'] = tokens"
   ]
  },
  {
   "cell_type": "code",
<<<<<<< HEAD
   "execution_count": 28,
   "metadata": {},
   "outputs": [
    {
     "data": {
      "text/plain": [
       "0    [I, order, 3, of, them, and, one, of, the, ite...\n",
       "1    [Bulk, is, always, the, less, expensive, way, ...\n",
       "2    [Well, they, are, not, Duracell, but, for, the...\n",
       "3    [Seem, to, work, as, well, as, name, brand, ba...\n",
       "4    [These, batteries, are, very, long, lasting, t...\n",
       "Name: tokens, dtype: object"
      ]
     },
     "execution_count": 28,
     "metadata": {},
     "output_type": "execute_result"
    }
   ],
=======
   "execution_count": null,
   "metadata": {},
   "outputs": [],
>>>>>>> 12467e3600c3f6b9373a65821d6283170bbb49be
   "source": [
    "df['tokens'].head()"
   ]
  },
  {
   "cell_type": "code",
<<<<<<< HEAD
   "execution_count": 29,
=======
   "execution_count": null,
>>>>>>> 12467e3600c3f6b9373a65821d6283170bbb49be
   "metadata": {},
   "outputs": [],
   "source": [
    "wc = count(df['tokens'])"
   ]
  },
  {
   "cell_type": "code",
<<<<<<< HEAD
   "execution_count": 30,
   "metadata": {},
   "outputs": [
    {
     "data": {
      "text/html": [
       "<div>\n",
       "<style scoped>\n",
       "    .dataframe tbody tr th:only-of-type {\n",
       "        vertical-align: middle;\n",
       "    }\n",
       "\n",
       "    .dataframe tbody tr th {\n",
       "        vertical-align: top;\n",
       "    }\n",
       "\n",
       "    .dataframe thead th {\n",
       "        text-align: right;\n",
       "    }\n",
       "</style>\n",
       "<table border=\"1\" class=\"dataframe\">\n",
       "  <thead>\n",
       "    <tr style=\"text-align: right;\">\n",
       "      <th></th>\n",
       "      <th>word</th>\n",
       "      <th>appears_in</th>\n",
       "      <th>count</th>\n",
       "      <th>rank</th>\n",
       "      <th>pct_total</th>\n",
       "      <th>cul_pct_total</th>\n",
       "      <th>appears_in_pct</th>\n",
       "    </tr>\n",
       "  </thead>\n",
       "  <tbody>\n",
       "    <tr>\n",
       "      <th>21</th>\n",
       "      <td>the</td>\n",
       "      <td>12316</td>\n",
       "      <td>25154</td>\n",
       "      <td>1.0</td>\n",
       "      <td>0.034219</td>\n",
       "      <td>0.034219</td>\n",
       "      <td>0.434703</td>\n",
       "    </tr>\n",
       "    <tr>\n",
       "      <th>13</th>\n",
       "      <td>and</td>\n",
       "      <td>13541</td>\n",
       "      <td>21850</td>\n",
       "      <td>2.0</td>\n",
       "      <td>0.029725</td>\n",
       "      <td>0.063944</td>\n",
       "      <td>0.477940</td>\n",
       "    </tr>\n",
       "    <tr>\n",
       "      <th>23</th>\n",
       "      <td>I</td>\n",
       "      <td>9913</td>\n",
       "      <td>19762</td>\n",
       "      <td>3.0</td>\n",
       "      <td>0.026884</td>\n",
       "      <td>0.090828</td>\n",
       "      <td>0.349887</td>\n",
       "    </tr>\n",
       "    <tr>\n",
       "      <th>18</th>\n",
       "      <td>to</td>\n",
       "      <td>11227</td>\n",
       "      <td>19324</td>\n",
       "      <td>4.0</td>\n",
       "      <td>0.026288</td>\n",
       "      <td>0.117117</td>\n",
       "      <td>0.396266</td>\n",
       "    </tr>\n",
       "    <tr>\n",
       "      <th>26</th>\n",
       "      <td>for</td>\n",
       "      <td>11790</td>\n",
       "      <td>17197</td>\n",
       "      <td>5.0</td>\n",
       "      <td>0.023395</td>\n",
       "      <td>0.140512</td>\n",
       "      <td>0.416137</td>\n",
       "    </tr>\n",
       "  </tbody>\n",
       "</table>\n",
       "</div>"
      ],
      "text/plain": [
       "   word  appears_in  count  rank  pct_total  cul_pct_total  appears_in_pct\n",
       "21  the       12316  25154   1.0   0.034219       0.034219        0.434703\n",
       "13  and       13541  21850   2.0   0.029725       0.063944        0.477940\n",
       "23    I        9913  19762   3.0   0.026884       0.090828        0.349887\n",
       "18   to       11227  19324   4.0   0.026288       0.117117        0.396266\n",
       "26  for       11790  17197   5.0   0.023395       0.140512        0.416137"
      ]
     },
     "execution_count": 30,
     "metadata": {},
     "output_type": "execute_result"
    }
   ],
=======
   "execution_count": null,
   "metadata": {},
   "outputs": [],
>>>>>>> 12467e3600c3f6b9373a65821d6283170bbb49be
   "source": [
    "wc.head()"
   ]
  },
  {
   "cell_type": "code",
<<<<<<< HEAD
   "execution_count": 31,
   "metadata": {},
   "outputs": [
    {
     "data": {
      "image/png": "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\n",
      "text/plain": [
       "<Figure size 432x288 with 1 Axes>"
      ]
     },
     "metadata": {
      "needs_background": "light"
     },
     "output_type": "display_data"
    }
   ],
=======
   "execution_count": null,
   "metadata": {},
   "outputs": [],
>>>>>>> 12467e3600c3f6b9373a65821d6283170bbb49be
   "source": [
    "wc_top20 = wc[wc['rank'] <= 20]\n",
    "\n",
    "squarify.plot(sizes=wc_top20['pct_total'], label=wc_top20['word'], alpha=.8 )\n",
    "plt.axis('off')\n",
    "plt.show()"
   ]
  },
  {
   "cell_type": "markdown",
   "metadata": {
    "toc-hr-collapsed": true
   },
   "source": [
    "## Challenge\n",
    "\n",
    "In the module project, you will apply tokenization to another set of review data and produce visualizations of those tokens. "
   ]
  },
  {
<<<<<<< HEAD
=======
   "cell_type": "code",
   "execution_count": null,
   "metadata": {},
   "outputs": [],
   "source": [
    "list(df)"
   ]
  },
  {
>>>>>>> 12467e3600c3f6b9373a65821d6283170bbb49be
   "cell_type": "markdown",
   "metadata": {
    "toc-hr-collapsed": false
   },
   "source": [
    "# Stop Words (Learn)\n",
    "<a id=\"p2\"></a>"
   ]
  },
  {
   "cell_type": "markdown",
   "metadata": {},
   "source": [
    "## Overview\n",
    "Section Agenda\n",
    "- What are they?\n",
    "- How do we get rid of them using Spacy?\n",
    "- Visualization\n",
    "- Libraries of Stop Words\n",
    "- Extending Stop Words\n",
    "- Statistical trimming\n",
    "\n",
<<<<<<< HEAD
    "If the visualizations above, you began to notice a pattern. Most of the words don't really add much to our undertanding of product reviews. Words such as \"I\", \"and\", \"of\", etc. have almost no semantic meaning to us. We call these useless words \"stop words,\" because we should 'stop' ourselves from including them in the analysis. \n",
=======
    "If the visualizations above, you began to notice a pattern. Most of the words don't really add much to our understanding of product reviews. Words such as \"I\", \"and\", \"of\", etc. have almost no semantic meaning to us. We call these useless words \"stop words,\" because we should 'stop' ourselves from including them in the analysis. \n",
>>>>>>> 12467e3600c3f6b9373a65821d6283170bbb49be
    "\n",
    "Most NLP libraries have built in lists of stop words that common english words: conjunctions, articles, adverbs, pronouns, and common verbs. The best practice, however, is to extend/customize these standard english stopwords for your problem's domain. If I am studying political science, I may want to exclude the word \"politics\" from my analysis; it's so common it does not add to my understanding. "
   ]
  },
  {
   "cell_type": "markdown",
   "metadata": {
    "toc-hr-collapsed": true
   },
   "source": [
    "## Follow Along \n",
    "\n",
    "### Default Stop Words\n",
<<<<<<< HEAD
    "Let's take a look at the standard stop words that came with our spacy model:"
=======
    "Let's take a look at the standard stop words that came with our Spacy model:"
>>>>>>> 12467e3600c3f6b9373a65821d6283170bbb49be
   ]
  },
  {
   "cell_type": "code",
<<<<<<< HEAD
   "execution_count": 32,
   "metadata": {},
   "outputs": [
    {
     "data": {
      "text/plain": [
       "{\"'d\",\n",
       " \"'ll\",\n",
       " \"'m\",\n",
       " \"'re\",\n",
       " \"'s\",\n",
       " \"'ve\",\n",
       " 'a',\n",
       " 'about',\n",
       " 'above',\n",
       " 'across',\n",
       " 'after',\n",
       " 'afterwards',\n",
       " 'again',\n",
       " 'against',\n",
       " 'all',\n",
       " 'almost',\n",
       " 'alone',\n",
       " 'along',\n",
       " 'already',\n",
       " 'also',\n",
       " 'although',\n",
       " 'always',\n",
       " 'am',\n",
       " 'among',\n",
       " 'amongst',\n",
       " 'amount',\n",
       " 'an',\n",
       " 'and',\n",
       " 'another',\n",
       " 'any',\n",
       " 'anyhow',\n",
       " 'anyone',\n",
       " 'anything',\n",
       " 'anyway',\n",
       " 'anywhere',\n",
       " 'are',\n",
       " 'around',\n",
       " 'as',\n",
       " 'at',\n",
       " 'back',\n",
       " 'be',\n",
       " 'became',\n",
       " 'because',\n",
       " 'become',\n",
       " 'becomes',\n",
       " 'becoming',\n",
       " 'been',\n",
       " 'before',\n",
       " 'beforehand',\n",
       " 'behind',\n",
       " 'being',\n",
       " 'below',\n",
       " 'beside',\n",
       " 'besides',\n",
       " 'between',\n",
       " 'beyond',\n",
       " 'both',\n",
       " 'bottom',\n",
       " 'but',\n",
       " 'by',\n",
       " 'ca',\n",
       " 'call',\n",
       " 'can',\n",
       " 'cannot',\n",
       " 'could',\n",
       " 'did',\n",
       " 'do',\n",
       " 'does',\n",
       " 'doing',\n",
       " 'done',\n",
       " 'down',\n",
       " 'due',\n",
       " 'during',\n",
       " 'each',\n",
       " 'eight',\n",
       " 'either',\n",
       " 'eleven',\n",
       " 'else',\n",
       " 'elsewhere',\n",
       " 'empty',\n",
       " 'enough',\n",
       " 'even',\n",
       " 'ever',\n",
       " 'every',\n",
       " 'everyone',\n",
       " 'everything',\n",
       " 'everywhere',\n",
       " 'except',\n",
       " 'few',\n",
       " 'fifteen',\n",
       " 'fifty',\n",
       " 'first',\n",
       " 'five',\n",
       " 'for',\n",
       " 'former',\n",
       " 'formerly',\n",
       " 'forty',\n",
       " 'four',\n",
       " 'from',\n",
       " 'front',\n",
       " 'full',\n",
       " 'further',\n",
       " 'get',\n",
       " 'give',\n",
       " 'go',\n",
       " 'had',\n",
       " 'has',\n",
       " 'have',\n",
       " 'he',\n",
       " 'hence',\n",
       " 'her',\n",
       " 'here',\n",
       " 'hereafter',\n",
       " 'hereby',\n",
       " 'herein',\n",
       " 'hereupon',\n",
       " 'hers',\n",
       " 'herself',\n",
       " 'him',\n",
       " 'himself',\n",
       " 'his',\n",
       " 'how',\n",
       " 'however',\n",
       " 'hundred',\n",
       " 'i',\n",
       " 'if',\n",
       " 'in',\n",
       " 'indeed',\n",
       " 'into',\n",
       " 'is',\n",
       " 'it',\n",
       " 'its',\n",
       " 'itself',\n",
       " 'just',\n",
       " 'keep',\n",
       " 'last',\n",
       " 'latter',\n",
       " 'latterly',\n",
       " 'least',\n",
       " 'less',\n",
       " 'made',\n",
       " 'make',\n",
       " 'many',\n",
       " 'may',\n",
       " 'me',\n",
       " 'meanwhile',\n",
       " 'might',\n",
       " 'mine',\n",
       " 'more',\n",
       " 'moreover',\n",
       " 'most',\n",
       " 'mostly',\n",
       " 'move',\n",
       " 'much',\n",
       " 'must',\n",
       " 'my',\n",
       " 'myself',\n",
       " \"n't\",\n",
       " 'name',\n",
       " 'namely',\n",
       " 'neither',\n",
       " 'never',\n",
       " 'nevertheless',\n",
       " 'next',\n",
       " 'nine',\n",
       " 'no',\n",
       " 'nobody',\n",
       " 'none',\n",
       " 'noone',\n",
       " 'nor',\n",
       " 'not',\n",
       " 'nothing',\n",
       " 'now',\n",
       " 'nowhere',\n",
       " 'n‘t',\n",
       " 'n’t',\n",
       " 'of',\n",
       " 'off',\n",
       " 'often',\n",
       " 'on',\n",
       " 'once',\n",
       " 'one',\n",
       " 'only',\n",
       " 'onto',\n",
       " 'or',\n",
       " 'other',\n",
       " 'others',\n",
       " 'otherwise',\n",
       " 'our',\n",
       " 'ours',\n",
       " 'ourselves',\n",
       " 'out',\n",
       " 'over',\n",
       " 'own',\n",
       " 'part',\n",
       " 'per',\n",
       " 'perhaps',\n",
       " 'please',\n",
       " 'put',\n",
       " 'quite',\n",
       " 'rather',\n",
       " 're',\n",
       " 'really',\n",
       " 'regarding',\n",
       " 'same',\n",
       " 'say',\n",
       " 'see',\n",
       " 'seem',\n",
       " 'seemed',\n",
       " 'seeming',\n",
       " 'seems',\n",
       " 'serious',\n",
       " 'several',\n",
       " 'she',\n",
       " 'should',\n",
       " 'show',\n",
       " 'side',\n",
       " 'since',\n",
       " 'six',\n",
       " 'sixty',\n",
       " 'so',\n",
       " 'some',\n",
       " 'somehow',\n",
       " 'someone',\n",
       " 'something',\n",
       " 'sometime',\n",
       " 'sometimes',\n",
       " 'somewhere',\n",
       " 'still',\n",
       " 'such',\n",
       " 'take',\n",
       " 'ten',\n",
       " 'than',\n",
       " 'that',\n",
       " 'the',\n",
       " 'their',\n",
       " 'them',\n",
       " 'themselves',\n",
       " 'then',\n",
       " 'thence',\n",
       " 'there',\n",
       " 'thereafter',\n",
       " 'thereby',\n",
       " 'therefore',\n",
       " 'therein',\n",
       " 'thereupon',\n",
       " 'these',\n",
       " 'they',\n",
       " 'third',\n",
       " 'this',\n",
       " 'those',\n",
       " 'though',\n",
       " 'three',\n",
       " 'through',\n",
       " 'throughout',\n",
       " 'thru',\n",
       " 'thus',\n",
       " 'to',\n",
       " 'together',\n",
       " 'too',\n",
       " 'top',\n",
       " 'toward',\n",
       " 'towards',\n",
       " 'twelve',\n",
       " 'twenty',\n",
       " 'two',\n",
       " 'under',\n",
       " 'unless',\n",
       " 'until',\n",
       " 'up',\n",
       " 'upon',\n",
       " 'us',\n",
       " 'used',\n",
       " 'using',\n",
       " 'various',\n",
       " 'very',\n",
       " 'via',\n",
       " 'was',\n",
       " 'we',\n",
       " 'well',\n",
       " 'were',\n",
       " 'what',\n",
       " 'whatever',\n",
       " 'when',\n",
       " 'whence',\n",
       " 'whenever',\n",
       " 'where',\n",
       " 'whereafter',\n",
       " 'whereas',\n",
       " 'whereby',\n",
       " 'wherein',\n",
       " 'whereupon',\n",
       " 'wherever',\n",
       " 'whether',\n",
       " 'which',\n",
       " 'while',\n",
       " 'whither',\n",
       " 'who',\n",
       " 'whoever',\n",
       " 'whole',\n",
       " 'whom',\n",
       " 'whose',\n",
       " 'why',\n",
       " 'will',\n",
       " 'with',\n",
       " 'within',\n",
       " 'without',\n",
       " 'would',\n",
       " 'yet',\n",
       " 'you',\n",
       " 'your',\n",
       " 'yours',\n",
       " 'yourself',\n",
       " 'yourselves',\n",
       " '‘d',\n",
       " '‘ll',\n",
       " '‘m',\n",
       " '‘re',\n",
       " '‘s',\n",
       " '‘ve',\n",
       " '’d',\n",
       " '’ll',\n",
       " '’m',\n",
       " '’re',\n",
       " '’s',\n",
       " '’ve'}"
      ]
     },
     "execution_count": 32,
     "metadata": {},
     "output_type": "execute_result"
    }
   ],
=======
   "execution_count": null,
   "metadata": {},
   "outputs": [],
>>>>>>> 12467e3600c3f6b9373a65821d6283170bbb49be
   "source": [
    "# Spacy's Default Stop Words\n",
    "nlp.Defaults.stop_words"
   ]
  },
  {
   "cell_type": "code",
<<<<<<< HEAD
   "execution_count": 33,
=======
   "execution_count": null,
>>>>>>> 12467e3600c3f6b9373a65821d6283170bbb49be
   "metadata": {},
   "outputs": [],
   "source": [
    "tokens = []\n",
    "\n",
    "\"\"\" Update those tokens w/o stopwords\"\"\"\n",
    "for doc in tokenizer.pipe(df['reviews.text'], batch_size=500):\n",
    "    \n",
    "    doc_tokens = []\n",
    "    \n",
    "    for token in doc:\n",
    "        if (token.is_stop == False) & (token.is_punct == False):\n",
    "            doc_tokens.append(token.text.lower())\n",
    "\n",
    "    tokens.append(doc_tokens)\n",
    "\n",
    "df['tokens'] = tokens"
   ]
  },
  {
   "cell_type": "code",
<<<<<<< HEAD
   "execution_count": 34,
   "metadata": {},
   "outputs": [
    {
     "data": {
      "text/plain": [
       "0    [order, 3, item, bad, quality., missing, backu...\n",
       "1               [bulk, expensive, way, products, like]\n",
       "2                            [duracell, price, happy.]\n",
       "3              [work, brand, batteries, better, price]\n",
       "4            [batteries, long, lasting, price, great.]\n",
       "Name: tokens, dtype: object"
      ]
     },
     "execution_count": 34,
     "metadata": {},
     "output_type": "execute_result"
    }
   ],
=======
   "execution_count": null,
   "metadata": {},
   "outputs": [],
>>>>>>> 12467e3600c3f6b9373a65821d6283170bbb49be
   "source": [
    "df.tokens.head()"
   ]
  },
  {
   "cell_type": "code",
<<<<<<< HEAD
   "execution_count": 35,
   "metadata": {},
   "outputs": [
    {
     "data": {
      "image/png": "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\n",
      "text/plain": [
       "<Figure size 432x288 with 1 Axes>"
      ]
     },
     "metadata": {
      "needs_background": "light"
     },
     "output_type": "display_data"
    }
   ],
=======
   "execution_count": null,
   "metadata": {},
   "outputs": [],
>>>>>>> 12467e3600c3f6b9373a65821d6283170bbb49be
   "source": [
    "wc = count(df['tokens'])\n",
    "\n",
    "wc_top20 = wc[wc['rank'] <= 20]\n",
    "\n",
    "squarify.plot(sizes=wc_top20['pct_total'], label=wc_top20['word'], alpha=.8 )\n",
    "plt.axis('off')\n",
    "plt.show()"
   ]
  },
  {
   "cell_type": "markdown",
   "metadata": {},
   "source": [
    "### Extending Stop Words"
   ]
  },
  {
   "cell_type": "code",
<<<<<<< HEAD
   "execution_count": 36,
   "metadata": {},
   "outputs": [
    {
     "name": "stdout",
     "output_type": "stream",
     "text": [
      "<class 'set'>\n"
     ]
    }
   ],
=======
   "execution_count": null,
   "metadata": {},
   "outputs": [],
>>>>>>> 12467e3600c3f6b9373a65821d6283170bbb49be
   "source": [
    "print(type(nlp.Defaults.stop_words))"
   ]
  },
  {
   "cell_type": "code",
<<<<<<< HEAD
   "execution_count": 37,
=======
   "execution_count": null,
>>>>>>> 12467e3600c3f6b9373a65821d6283170bbb49be
   "metadata": {},
   "outputs": [],
   "source": [
    "STOP_WORDS = nlp.Defaults.stop_words.union(['batteries','I', 'amazon', 'i', 'Amazon', 'it', \"it's\", 'it.', 'the', 'this',])"
   ]
  },
  {
   "cell_type": "code",
<<<<<<< HEAD
   "execution_count": 38,
   "metadata": {},
   "outputs": [
    {
     "data": {
      "text/plain": [
       "{\"'d\",\n",
       " \"'ll\",\n",
       " \"'m\",\n",
       " \"'re\",\n",
       " \"'s\",\n",
       " \"'ve\",\n",
       " 'Amazon',\n",
       " 'I',\n",
       " 'a',\n",
       " 'about',\n",
       " 'above',\n",
       " 'across',\n",
       " 'after',\n",
       " 'afterwards',\n",
       " 'again',\n",
       " 'against',\n",
       " 'all',\n",
       " 'almost',\n",
       " 'alone',\n",
       " 'along',\n",
       " 'already',\n",
       " 'also',\n",
       " 'although',\n",
       " 'always',\n",
       " 'am',\n",
       " 'amazon',\n",
       " 'among',\n",
       " 'amongst',\n",
       " 'amount',\n",
       " 'an',\n",
       " 'and',\n",
       " 'another',\n",
       " 'any',\n",
       " 'anyhow',\n",
       " 'anyone',\n",
       " 'anything',\n",
       " 'anyway',\n",
       " 'anywhere',\n",
       " 'are',\n",
       " 'around',\n",
       " 'as',\n",
       " 'at',\n",
       " 'back',\n",
       " 'batteries',\n",
       " 'be',\n",
       " 'became',\n",
       " 'because',\n",
       " 'become',\n",
       " 'becomes',\n",
       " 'becoming',\n",
       " 'been',\n",
       " 'before',\n",
       " 'beforehand',\n",
       " 'behind',\n",
       " 'being',\n",
       " 'below',\n",
       " 'beside',\n",
       " 'besides',\n",
       " 'between',\n",
       " 'beyond',\n",
       " 'both',\n",
       " 'bottom',\n",
       " 'but',\n",
       " 'by',\n",
       " 'ca',\n",
       " 'call',\n",
       " 'can',\n",
       " 'cannot',\n",
       " 'could',\n",
       " 'did',\n",
       " 'do',\n",
       " 'does',\n",
       " 'doing',\n",
       " 'done',\n",
       " 'down',\n",
       " 'due',\n",
       " 'during',\n",
       " 'each',\n",
       " 'eight',\n",
       " 'either',\n",
       " 'eleven',\n",
       " 'else',\n",
       " 'elsewhere',\n",
       " 'empty',\n",
       " 'enough',\n",
       " 'even',\n",
       " 'ever',\n",
       " 'every',\n",
       " 'everyone',\n",
       " 'everything',\n",
       " 'everywhere',\n",
       " 'except',\n",
       " 'few',\n",
       " 'fifteen',\n",
       " 'fifty',\n",
       " 'first',\n",
       " 'five',\n",
       " 'for',\n",
       " 'former',\n",
       " 'formerly',\n",
       " 'forty',\n",
       " 'four',\n",
       " 'from',\n",
       " 'front',\n",
       " 'full',\n",
       " 'further',\n",
       " 'get',\n",
       " 'give',\n",
       " 'go',\n",
       " 'had',\n",
       " 'has',\n",
       " 'have',\n",
       " 'he',\n",
       " 'hence',\n",
       " 'her',\n",
       " 'here',\n",
       " 'hereafter',\n",
       " 'hereby',\n",
       " 'herein',\n",
       " 'hereupon',\n",
       " 'hers',\n",
       " 'herself',\n",
       " 'him',\n",
       " 'himself',\n",
       " 'his',\n",
       " 'how',\n",
       " 'however',\n",
       " 'hundred',\n",
       " 'i',\n",
       " 'if',\n",
       " 'in',\n",
       " 'indeed',\n",
       " 'into',\n",
       " 'is',\n",
       " 'it',\n",
       " \"it's\",\n",
       " 'it.',\n",
       " 'its',\n",
       " 'itself',\n",
       " 'just',\n",
       " 'keep',\n",
       " 'last',\n",
       " 'latter',\n",
       " 'latterly',\n",
       " 'least',\n",
       " 'less',\n",
       " 'made',\n",
       " 'make',\n",
       " 'many',\n",
       " 'may',\n",
       " 'me',\n",
       " 'meanwhile',\n",
       " 'might',\n",
       " 'mine',\n",
       " 'more',\n",
       " 'moreover',\n",
       " 'most',\n",
       " 'mostly',\n",
       " 'move',\n",
       " 'much',\n",
       " 'must',\n",
       " 'my',\n",
       " 'myself',\n",
       " \"n't\",\n",
       " 'name',\n",
       " 'namely',\n",
       " 'neither',\n",
       " 'never',\n",
       " 'nevertheless',\n",
       " 'next',\n",
       " 'nine',\n",
       " 'no',\n",
       " 'nobody',\n",
       " 'none',\n",
       " 'noone',\n",
       " 'nor',\n",
       " 'not',\n",
       " 'nothing',\n",
       " 'now',\n",
       " 'nowhere',\n",
       " 'n‘t',\n",
       " 'n’t',\n",
       " 'of',\n",
       " 'off',\n",
       " 'often',\n",
       " 'on',\n",
       " 'once',\n",
       " 'one',\n",
       " 'only',\n",
       " 'onto',\n",
       " 'or',\n",
       " 'other',\n",
       " 'others',\n",
       " 'otherwise',\n",
       " 'our',\n",
       " 'ours',\n",
       " 'ourselves',\n",
       " 'out',\n",
       " 'over',\n",
       " 'own',\n",
       " 'part',\n",
       " 'per',\n",
       " 'perhaps',\n",
       " 'please',\n",
       " 'put',\n",
       " 'quite',\n",
       " 'rather',\n",
       " 're',\n",
       " 'really',\n",
       " 'regarding',\n",
       " 'same',\n",
       " 'say',\n",
       " 'see',\n",
       " 'seem',\n",
       " 'seemed',\n",
       " 'seeming',\n",
       " 'seems',\n",
       " 'serious',\n",
       " 'several',\n",
       " 'she',\n",
       " 'should',\n",
       " 'show',\n",
       " 'side',\n",
       " 'since',\n",
       " 'six',\n",
       " 'sixty',\n",
       " 'so',\n",
       " 'some',\n",
       " 'somehow',\n",
       " 'someone',\n",
       " 'something',\n",
       " 'sometime',\n",
       " 'sometimes',\n",
       " 'somewhere',\n",
       " 'still',\n",
       " 'such',\n",
       " 'take',\n",
       " 'ten',\n",
       " 'than',\n",
       " 'that',\n",
       " 'the',\n",
       " 'their',\n",
       " 'them',\n",
       " 'themselves',\n",
       " 'then',\n",
       " 'thence',\n",
       " 'there',\n",
       " 'thereafter',\n",
       " 'thereby',\n",
       " 'therefore',\n",
       " 'therein',\n",
       " 'thereupon',\n",
       " 'these',\n",
       " 'they',\n",
       " 'third',\n",
       " 'this',\n",
       " 'those',\n",
       " 'though',\n",
       " 'three',\n",
       " 'through',\n",
       " 'throughout',\n",
       " 'thru',\n",
       " 'thus',\n",
       " 'to',\n",
       " 'together',\n",
       " 'too',\n",
       " 'top',\n",
       " 'toward',\n",
       " 'towards',\n",
       " 'twelve',\n",
       " 'twenty',\n",
       " 'two',\n",
       " 'under',\n",
       " 'unless',\n",
       " 'until',\n",
       " 'up',\n",
       " 'upon',\n",
       " 'us',\n",
       " 'used',\n",
       " 'using',\n",
       " 'various',\n",
       " 'very',\n",
       " 'via',\n",
       " 'was',\n",
       " 'we',\n",
       " 'well',\n",
       " 'were',\n",
       " 'what',\n",
       " 'whatever',\n",
       " 'when',\n",
       " 'whence',\n",
       " 'whenever',\n",
       " 'where',\n",
       " 'whereafter',\n",
       " 'whereas',\n",
       " 'whereby',\n",
       " 'wherein',\n",
       " 'whereupon',\n",
       " 'wherever',\n",
       " 'whether',\n",
       " 'which',\n",
       " 'while',\n",
       " 'whither',\n",
       " 'who',\n",
       " 'whoever',\n",
       " 'whole',\n",
       " 'whom',\n",
       " 'whose',\n",
       " 'why',\n",
       " 'will',\n",
       " 'with',\n",
       " 'within',\n",
       " 'without',\n",
       " 'would',\n",
       " 'yet',\n",
       " 'you',\n",
       " 'your',\n",
       " 'yours',\n",
       " 'yourself',\n",
       " 'yourselves',\n",
       " '‘d',\n",
       " '‘ll',\n",
       " '‘m',\n",
       " '‘re',\n",
       " '‘s',\n",
       " '‘ve',\n",
       " '’d',\n",
       " '’ll',\n",
       " '’m',\n",
       " '’re',\n",
       " '’s',\n",
       " '’ve'}"
      ]
     },
     "execution_count": 38,
     "metadata": {},
     "output_type": "execute_result"
    }
   ],
=======
   "execution_count": null,
   "metadata": {},
   "outputs": [],
>>>>>>> 12467e3600c3f6b9373a65821d6283170bbb49be
   "source": [
    "STOP_WORDS"
   ]
  },
  {
   "cell_type": "code",
<<<<<<< HEAD
   "execution_count": 39,
=======
   "execution_count": null,
>>>>>>> 12467e3600c3f6b9373a65821d6283170bbb49be
   "metadata": {},
   "outputs": [],
   "source": [
    "tokens = []\n",
    "\n",
    "for doc in tokenizer.pipe(df['reviews.text'], batch_size=500):\n",
    "    \n",
    "    doc_tokens = []\n",
    "    \n",
    "    for token in doc: \n",
    "        if token.text.lower() not in STOP_WORDS:\n",
    "            doc_tokens.append(token.text.lower())\n",
    "   \n",
    "    tokens.append(doc_tokens)\n",
    "    \n",
    "df['tokens'] = tokens"
   ]
  },
  {
   "cell_type": "code",
<<<<<<< HEAD
   "execution_count": 40,
   "metadata": {},
   "outputs": [
    {
     "data": {
      "text/html": [
       "<div>\n",
       "<style scoped>\n",
       "    .dataframe tbody tr th:only-of-type {\n",
       "        vertical-align: middle;\n",
       "    }\n",
       "\n",
       "    .dataframe tbody tr th {\n",
       "        vertical-align: top;\n",
       "    }\n",
       "\n",
       "    .dataframe thead th {\n",
       "        text-align: right;\n",
       "    }\n",
       "</style>\n",
       "<table border=\"1\" class=\"dataframe\">\n",
       "  <thead>\n",
       "    <tr style=\"text-align: right;\">\n",
       "      <th></th>\n",
       "      <th>word</th>\n",
       "      <th>appears_in</th>\n",
       "      <th>count</th>\n",
       "      <th>rank</th>\n",
       "      <th>pct_total</th>\n",
       "      <th>cul_pct_total</th>\n",
       "      <th>appears_in_pct</th>\n",
       "    </tr>\n",
       "  </thead>\n",
       "  <tbody>\n",
       "    <tr>\n",
       "      <th>76</th>\n",
       "      <td>great</td>\n",
       "      <td>7187</td>\n",
       "      <td>8183</td>\n",
       "      <td>1.0</td>\n",
       "      <td>0.023959</td>\n",
       "      <td>0.023959</td>\n",
       "      <td>0.253671</td>\n",
       "    </tr>\n",
       "    <tr>\n",
       "      <th>65</th>\n",
       "      <td>good</td>\n",
       "      <td>4633</td>\n",
       "      <td>5148</td>\n",
       "      <td>2.0</td>\n",
       "      <td>0.015073</td>\n",
       "      <td>0.039032</td>\n",
       "      <td>0.163525</td>\n",
       "    </tr>\n",
       "    <tr>\n",
       "      <th>7808</th>\n",
       "      <td>tablet</td>\n",
       "      <td>3920</td>\n",
       "      <td>4714</td>\n",
       "      <td>3.0</td>\n",
       "      <td>0.013802</td>\n",
       "      <td>0.052834</td>\n",
       "      <td>0.138359</td>\n",
       "    </tr>\n",
       "    <tr>\n",
       "      <th>103</th>\n",
       "      <td>love</td>\n",
       "      <td>3154</td>\n",
       "      <td>3458</td>\n",
       "      <td>4.0</td>\n",
       "      <td>0.010125</td>\n",
       "      <td>0.062958</td>\n",
       "      <td>0.111323</td>\n",
       "    </tr>\n",
       "    <tr>\n",
       "      <th>104</th>\n",
       "      <td>use</td>\n",
       "      <td>2881</td>\n",
       "      <td>3233</td>\n",
       "      <td>5.0</td>\n",
       "      <td>0.009466</td>\n",
       "      <td>0.072424</td>\n",
       "      <td>0.101687</td>\n",
       "    </tr>\n",
       "  </tbody>\n",
       "</table>\n",
       "</div>"
      ],
      "text/plain": [
       "        word  appears_in  count  rank  pct_total  cul_pct_total  \\\n",
       "76     great        7187   8183   1.0   0.023959       0.023959   \n",
       "65      good        4633   5148   2.0   0.015073       0.039032   \n",
       "7808  tablet        3920   4714   3.0   0.013802       0.052834   \n",
       "103     love        3154   3458   4.0   0.010125       0.062958   \n",
       "104      use        2881   3233   5.0   0.009466       0.072424   \n",
       "\n",
       "      appears_in_pct  \n",
       "76          0.253671  \n",
       "65          0.163525  \n",
       "7808        0.138359  \n",
       "103         0.111323  \n",
       "104         0.101687  "
      ]
     },
     "execution_count": 40,
     "metadata": {},
     "output_type": "execute_result"
    }
   ],
=======
   "execution_count": null,
   "metadata": {},
   "outputs": [],
>>>>>>> 12467e3600c3f6b9373a65821d6283170bbb49be
   "source": [
    "wc = count(df['tokens'])\n",
    "wc.head()"
   ]
  },
  {
   "cell_type": "code",
<<<<<<< HEAD
   "execution_count": 41,
   "metadata": {},
   "outputs": [
    {
     "data": {
      "image/png": "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\n",
      "text/plain": [
       "<Figure size 432x288 with 1 Axes>"
      ]
     },
     "metadata": {
      "needs_background": "light"
     },
     "output_type": "display_data"
    }
   ],
=======
   "execution_count": null,
   "metadata": {},
   "outputs": [],
>>>>>>> 12467e3600c3f6b9373a65821d6283170bbb49be
   "source": [
    "wc_top20 = wc[wc['rank'] <= 20]\n",
    "\n",
    "squarify.plot(sizes=wc_top20['pct_total'], label=wc_top20['word'], alpha=.8 )\n",
    "plt.axis('off')\n",
    "plt.show()"
   ]
  },
  {
   "cell_type": "code",
<<<<<<< HEAD
   "execution_count": 42,
   "metadata": {},
   "outputs": [
    {
     "data": {
      "text/plain": [
       "5    19897\n",
       "4     5648\n",
       "3     1206\n",
       "1      965\n",
       "2      616\n",
       "Name: reviews.rating, dtype: int64"
      ]
     },
     "execution_count": 42,
     "metadata": {},
     "output_type": "execute_result"
    }
   ],
=======
   "execution_count": null,
   "metadata": {},
   "outputs": [],
>>>>>>> 12467e3600c3f6b9373a65821d6283170bbb49be
   "source": [
    "df['reviews.rating'].value_counts()"
   ]
  },
  {
   "cell_type": "markdown",
   "metadata": {},
   "source": [
    "### Statistical Trimming\n",
    "\n",
    "So far, we have talked about stop word in relation to either broad english words or domain specific stop words. Another common approach to stop word removal is via statistical trimming. The basic idea: preserve the words that give the most about of variation in your data. \n",
    "\n",
    "Do you remember this graph?"
   ]
  },
  {
   "cell_type": "code",
<<<<<<< HEAD
   "execution_count": 43,
   "metadata": {},
   "outputs": [
    {
     "data": {
      "image/png": "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\n",
      "text/plain": [
       "<Figure size 432x288 with 1 Axes>"
      ]
     },
     "metadata": {
      "needs_background": "light"
     },
     "output_type": "display_data"
    }
   ],
=======
   "execution_count": null,
   "metadata": {},
   "outputs": [],
>>>>>>> 12467e3600c3f6b9373a65821d6283170bbb49be
   "source": [
    "sns.lineplot(x='rank', y='cul_pct_total', data=wc);"
   ]
  },
  {
   "cell_type": "markdown",
   "metadata": {},
   "source": [
    "This graph tells us that only a *handful* of words represented 80% of words in the overall corpus. We can interpret this in two ways: \n",
<<<<<<< HEAD
    "1. The words that appear most frequently may not provide any insight into the mean on the documens since they are so prevalent. \n",
    "2. Words that appear infrequeny (at the end of the graph) also probably do not add much value, because the are mentioned so rarely. \n",
=======
    "1. The words that appear most frequently may not provide any insight into the mean on the documents since they are so prevalent. \n",
    "2. Words that appear infrequency (at the end of the graph) also probably do not add much value, because the are mentioned so rarely. \n",
>>>>>>> 12467e3600c3f6b9373a65821d6283170bbb49be
    "\n",
    "Let's take a look at the words at the bottom and the top and make a decision for ourselves:"
   ]
  },
  {
   "cell_type": "code",
<<<<<<< HEAD
   "execution_count": 44,
   "metadata": {},
   "outputs": [
    {
     "data": {
      "text/html": [
       "<div>\n",
       "<style scoped>\n",
       "    .dataframe tbody tr th:only-of-type {\n",
       "        vertical-align: middle;\n",
       "    }\n",
       "\n",
       "    .dataframe tbody tr th {\n",
       "        vertical-align: top;\n",
       "    }\n",
       "\n",
       "    .dataframe thead th {\n",
       "        text-align: right;\n",
       "    }\n",
       "</style>\n",
       "<table border=\"1\" class=\"dataframe\">\n",
       "  <thead>\n",
       "    <tr style=\"text-align: right;\">\n",
       "      <th></th>\n",
       "      <th>word</th>\n",
       "      <th>appears_in</th>\n",
       "      <th>count</th>\n",
       "      <th>rank</th>\n",
       "      <th>pct_total</th>\n",
       "      <th>cul_pct_total</th>\n",
       "      <th>appears_in_pct</th>\n",
       "    </tr>\n",
       "  </thead>\n",
       "  <tbody>\n",
       "    <tr>\n",
       "      <th>21200</th>\n",
       "      <td>cares</td>\n",
       "      <td>1</td>\n",
       "      <td>1</td>\n",
       "      <td>21201.0</td>\n",
       "      <td>0.000003</td>\n",
       "      <td>0.999944</td>\n",
       "      <td>0.000035</td>\n",
       "    </tr>\n",
       "    <tr>\n",
       "      <th>21201</th>\n",
       "      <td>photo/video</td>\n",
       "      <td>1</td>\n",
       "      <td>1</td>\n",
       "      <td>21202.0</td>\n",
       "      <td>0.000003</td>\n",
       "      <td>0.999947</td>\n",
       "      <td>0.000035</td>\n",
       "    </tr>\n",
       "    <tr>\n",
       "      <th>21202</th>\n",
       "      <td>taking,</td>\n",
       "      <td>1</td>\n",
       "      <td>1</td>\n",
       "      <td>21203.0</td>\n",
       "      <td>0.000003</td>\n",
       "      <td>0.999950</td>\n",
       "      <td>0.000035</td>\n",
       "    </tr>\n",
       "    <tr>\n",
       "      <th>21203</th>\n",
       "      <td>\"t\".</td>\n",
       "      <td>1</td>\n",
       "      <td>1</td>\n",
       "      <td>21204.0</td>\n",
       "      <td>0.000003</td>\n",
       "      <td>0.999953</td>\n",
       "      <td>0.000035</td>\n",
       "    </tr>\n",
       "    <tr>\n",
       "      <th>21205</th>\n",
       "      <td>say..............................................</td>\n",
       "      <td>1</td>\n",
       "      <td>1</td>\n",
       "      <td>21205.0</td>\n",
       "      <td>0.000003</td>\n",
       "      <td>0.999956</td>\n",
       "      <td>0.000035</td>\n",
       "    </tr>\n",
       "    <tr>\n",
       "      <th>21204</th>\n",
       "      <td>kindlelishous!!!!!!!!!!!!!</td>\n",
       "      <td>1</td>\n",
       "      <td>1</td>\n",
       "      <td>21206.0</td>\n",
       "      <td>0.000003</td>\n",
       "      <td>0.999959</td>\n",
       "      <td>0.000035</td>\n",
       "    </tr>\n",
       "    <tr>\n",
       "      <th>21206</th>\n",
       "      <td>competent,</td>\n",
       "      <td>1</td>\n",
       "      <td>1</td>\n",
       "      <td>21207.0</td>\n",
       "      <td>0.000003</td>\n",
       "      <td>0.999962</td>\n",
       "      <td>0.000035</td>\n",
       "    </tr>\n",
       "    <tr>\n",
       "      <th>21207</th>\n",
       "      <td>3-year-old,</td>\n",
       "      <td>1</td>\n",
       "      <td>1</td>\n",
       "      <td>21208.0</td>\n",
       "      <td>0.000003</td>\n",
       "      <td>0.999965</td>\n",
       "      <td>0.000035</td>\n",
       "    </tr>\n",
       "    <tr>\n",
       "      <th>21209</th>\n",
       "      <td>dollars.my</td>\n",
       "      <td>1</td>\n",
       "      <td>1</td>\n",
       "      <td>21209.0</td>\n",
       "      <td>0.000003</td>\n",
       "      <td>0.999968</td>\n",
       "      <td>0.000035</td>\n",
       "    </tr>\n",
       "    <tr>\n",
       "      <th>21208</th>\n",
       "      <td>relies</td>\n",
       "      <td>1</td>\n",
       "      <td>1</td>\n",
       "      <td>21210.0</td>\n",
       "      <td>0.000003</td>\n",
       "      <td>0.999971</td>\n",
       "      <td>0.000035</td>\n",
       "    </tr>\n",
       "    <tr>\n",
       "      <th>21210</th>\n",
       "      <td>readi,g</td>\n",
       "      <td>1</td>\n",
       "      <td>1</td>\n",
       "      <td>21211.0</td>\n",
       "      <td>0.000003</td>\n",
       "      <td>0.999974</td>\n",
       "      <td>0.000035</td>\n",
       "    </tr>\n",
       "    <tr>\n",
       "      <th>21214</th>\n",
       "      <td>perfectly..great</td>\n",
       "      <td>1</td>\n",
       "      <td>1</td>\n",
       "      <td>21212.0</td>\n",
       "      <td>0.000003</td>\n",
       "      <td>0.999977</td>\n",
       "      <td>0.000035</td>\n",
       "    </tr>\n",
       "    <tr>\n",
       "      <th>21212</th>\n",
       "      <td>blanking</td>\n",
       "      <td>1</td>\n",
       "      <td>1</td>\n",
       "      <td>21213.0</td>\n",
       "      <td>0.000003</td>\n",
       "      <td>0.999980</td>\n",
       "      <td>0.000035</td>\n",
       "    </tr>\n",
       "    <tr>\n",
       "      <th>21213</th>\n",
       "      <td>app\"</td>\n",
       "      <td>1</td>\n",
       "      <td>1</td>\n",
       "      <td>21214.0</td>\n",
       "      <td>0.000003</td>\n",
       "      <td>0.999982</td>\n",
       "      <td>0.000035</td>\n",
       "    </tr>\n",
       "    <tr>\n",
       "      <th>21211</th>\n",
       "      <td>have...then</td>\n",
       "      <td>1</td>\n",
       "      <td>1</td>\n",
       "      <td>21215.0</td>\n",
       "      <td>0.000003</td>\n",
       "      <td>0.999985</td>\n",
       "      <td>0.000035</td>\n",
       "    </tr>\n",
       "    <tr>\n",
       "      <th>21215</th>\n",
       "      <td>moztly</td>\n",
       "      <td>1</td>\n",
       "      <td>1</td>\n",
       "      <td>21216.0</td>\n",
       "      <td>0.000003</td>\n",
       "      <td>0.999988</td>\n",
       "      <td>0.000035</td>\n",
       "    </tr>\n",
       "    <tr>\n",
       "      <th>21216</th>\n",
       "      <td>titles,</td>\n",
       "      <td>1</td>\n",
       "      <td>1</td>\n",
       "      <td>21217.0</td>\n",
       "      <td>0.000003</td>\n",
       "      <td>0.999991</td>\n",
       "      <td>0.000035</td>\n",
       "    </tr>\n",
       "    <tr>\n",
       "      <th>21217</th>\n",
       "      <td>it..better</td>\n",
       "      <td>1</td>\n",
       "      <td>1</td>\n",
       "      <td>21218.0</td>\n",
       "      <td>0.000003</td>\n",
       "      <td>0.999994</td>\n",
       "      <td>0.000035</td>\n",
       "    </tr>\n",
       "    <tr>\n",
       "      <th>21218</th>\n",
       "      <td>shows/movies!</td>\n",
       "      <td>1</td>\n",
       "      <td>1</td>\n",
       "      <td>21219.0</td>\n",
       "      <td>0.000003</td>\n",
       "      <td>0.999997</td>\n",
       "      <td>0.000035</td>\n",
       "    </tr>\n",
       "    <tr>\n",
       "      <th>21219</th>\n",
       "      <td>bookreader.</td>\n",
       "      <td>1</td>\n",
       "      <td>1</td>\n",
       "      <td>21220.0</td>\n",
       "      <td>0.000003</td>\n",
       "      <td>1.000000</td>\n",
       "      <td>0.000035</td>\n",
       "    </tr>\n",
       "  </tbody>\n",
       "</table>\n",
       "</div>"
      ],
      "text/plain": [
       "                                                    word  appears_in  count  \\\n",
       "21200                                              cares           1      1   \n",
       "21201                                        photo/video           1      1   \n",
       "21202                                            taking,           1      1   \n",
       "21203                                               \"t\".           1      1   \n",
       "21205  say..............................................           1      1   \n",
       "21204                         kindlelishous!!!!!!!!!!!!!           1      1   \n",
       "21206                                         competent,           1      1   \n",
       "21207                                        3-year-old,           1      1   \n",
       "21209                                         dollars.my           1      1   \n",
       "21208                                             relies           1      1   \n",
       "21210                                            readi,g           1      1   \n",
       "21214                                   perfectly..great           1      1   \n",
       "21212                                           blanking           1      1   \n",
       "21213                                               app\"           1      1   \n",
       "21211                                        have...then           1      1   \n",
       "21215                                             moztly           1      1   \n",
       "21216                                            titles,           1      1   \n",
       "21217                                         it..better           1      1   \n",
       "21218                                      shows/movies!           1      1   \n",
       "21219                                        bookreader.           1      1   \n",
       "\n",
       "          rank  pct_total  cul_pct_total  appears_in_pct  \n",
       "21200  21201.0   0.000003       0.999944        0.000035  \n",
       "21201  21202.0   0.000003       0.999947        0.000035  \n",
       "21202  21203.0   0.000003       0.999950        0.000035  \n",
       "21203  21204.0   0.000003       0.999953        0.000035  \n",
       "21205  21205.0   0.000003       0.999956        0.000035  \n",
       "21204  21206.0   0.000003       0.999959        0.000035  \n",
       "21206  21207.0   0.000003       0.999962        0.000035  \n",
       "21207  21208.0   0.000003       0.999965        0.000035  \n",
       "21209  21209.0   0.000003       0.999968        0.000035  \n",
       "21208  21210.0   0.000003       0.999971        0.000035  \n",
       "21210  21211.0   0.000003       0.999974        0.000035  \n",
       "21214  21212.0   0.000003       0.999977        0.000035  \n",
       "21212  21213.0   0.000003       0.999980        0.000035  \n",
       "21213  21214.0   0.000003       0.999982        0.000035  \n",
       "21211  21215.0   0.000003       0.999985        0.000035  \n",
       "21215  21216.0   0.000003       0.999988        0.000035  \n",
       "21216  21217.0   0.000003       0.999991        0.000035  \n",
       "21217  21218.0   0.000003       0.999994        0.000035  \n",
       "21218  21219.0   0.000003       0.999997        0.000035  \n",
       "21219  21220.0   0.000003       1.000000        0.000035  "
      ]
     },
     "execution_count": 44,
     "metadata": {},
     "output_type": "execute_result"
    }
   ],
=======
   "execution_count": null,
   "metadata": {},
   "outputs": [],
>>>>>>> 12467e3600c3f6b9373a65821d6283170bbb49be
   "source": [
    "wc.tail(20)"
   ]
  },
  {
   "cell_type": "code",
<<<<<<< HEAD
   "execution_count": 45,
   "metadata": {},
   "outputs": [
    {
     "data": {
      "text/plain": [
       "count    21220.000000\n",
       "mean         0.000538\n",
       "std          0.003705\n",
       "min          0.000035\n",
       "25%          0.000035\n",
       "50%          0.000071\n",
       "75%          0.000176\n",
       "max          0.253671\n",
       "Name: appears_in_pct, dtype: float64"
      ]
     },
     "execution_count": 45,
     "metadata": {},
     "output_type": "execute_result"
    }
   ],
=======
   "execution_count": null,
   "metadata": {},
   "outputs": [],
>>>>>>> 12467e3600c3f6b9373a65821d6283170bbb49be
   "source": [
    "wc['appears_in_pct'].describe()"
   ]
  },
  {
   "cell_type": "code",
<<<<<<< HEAD
   "execution_count": 46,
   "metadata": {},
   "outputs": [
    {
     "data": {
      "image/png": "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\n",
      "text/plain": [
       "<Figure size 432x288 with 1 Axes>"
      ]
     },
     "metadata": {
      "needs_background": "light"
     },
     "output_type": "display_data"
    }
   ],
=======
   "execution_count": null,
   "metadata": {},
   "outputs": [],
>>>>>>> 12467e3600c3f6b9373a65821d6283170bbb49be
   "source": [
    "# Frequency of appears in documents\n",
    "sns.distplot(wc['appears_in_pct']);"
   ]
  },
  {
   "cell_type": "code",
<<<<<<< HEAD
   "execution_count": 47,
   "metadata": {},
   "outputs": [
    {
     "data": {
      "image/png": "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\n",
      "text/plain": [
       "<Figure size 432x288 with 1 Axes>"
      ]
     },
     "metadata": {
      "needs_background": "light"
     },
     "output_type": "display_data"
    }
   ],
=======
   "execution_count": null,
   "metadata": {},
   "outputs": [],
>>>>>>> 12467e3600c3f6b9373a65821d6283170bbb49be
   "source": [
    "# Tree-Map w/ Words that appear in a least 2.5% of documents. \n",
    "\n",
    "wc = wc[wc['appears_in_pct'] >= 0.025]\n",
    "\n",
    "sns.distplot(wc['appears_in_pct']);"
   ]
  },
  {
<<<<<<< HEAD
=======
   "cell_type": "code",
   "execution_count": null,
   "metadata": {},
   "outputs": [],
   "source": [
    "wc.shape"
   ]
  },
  {
>>>>>>> 12467e3600c3f6b9373a65821d6283170bbb49be
   "cell_type": "markdown",
   "metadata": {},
   "source": [
    "## Challenge\n",
    "\n",
    "In the module project, you will apply stop word removal to a new corpus. You will focus on applying dictionary based stop word removal, but as a stretch goal, you should consider applying statistical stopword trimming. "
   ]
  },
  {
   "cell_type": "markdown",
   "metadata": {
    "toc-hr-collapsed": false
   },
   "source": [
    "# Stemming & Lemmatization (Learn)\n",
    "<a id=\"p3\"></a>"
   ]
  },
  {
   "cell_type": "markdown",
   "metadata": {
    "toc-hr-collapsed": false
   },
   "source": [
    "## Overview\n",
    "\n",
    "You can see from our example above there is still some normalization to do to get a clean analysis. You notice that there many words (*i.e.* 'batteries', 'battery') which share the same root word. We can use either the process of stemming or lemmatization to trim our words down to the 'root' word. \n",
    "\n",
    "__Section Agenda__:\n",
    "\n",
    "- Which is which\n",
    "- why use one v. other\n",
    "- show side by side visualizations \n",
    "- how to do it in spacy & nltk\n",
    "- introduce PoS in here as well"
   ]
  },
  {
   "cell_type": "markdown",
   "metadata": {
    "toc-hr-collapsed": true
   },
   "source": [
    "## Follow Along"
   ]
  },
  {
   "cell_type": "markdown",
   "metadata": {
    "toc-hr-collapsed": true
   },
   "source": [
    "### Stemming\n",
    "\n",
    "> *a process for removing the commoner morphological and inflexional endings from words in English. Its main use is as part of a term normalisation process that is usually done when setting up Information Retrieval systems.* - [Martin Porter](https://tartarus.org/martin/PorterStemmer/)\n",
    "\n",
    "Some examples include:\n",
    "- 'ing'\n",
    "- 'ed'\n",
    "- 's'\n",
    "\n",
    "These rules are by no means comprehensive, but they are somewhere to start. Most stemming is done by well documented algorithms such as Porter, Snowball, and Dawson. Porter and its newer version Snowball are the most popular stemming algorithms today. For more information on various stemming algorithms check out [*\"A Comparative Study of Stemming Algorithms\"*](https://pdfs.semanticscholar.org/1c0c/0fa35d4ff8a2f925eb955e48d655494bd167.pdf) \n",
    "\n",
    "\n",
    "Spacy does not do stemming out of the box, but instead uses a different technique called *lemmatization* which we will discuss in the next section. Let's turn to an antique python package `nltk` for stemming. "
   ]
  },
  {
   "cell_type": "code",
<<<<<<< HEAD
   "execution_count": 48,
   "metadata": {},
   "outputs": [
    {
     "name": "stdout",
     "output_type": "stream",
     "text": [
      "python\n",
      "python\n",
      "python\n",
      "python\n",
      "pythonli\n"
     ]
    }
   ],
=======
   "execution_count": null,
   "metadata": {},
   "outputs": [],
>>>>>>> 12467e3600c3f6b9373a65821d6283170bbb49be
   "source": [
    "from nltk.stem import PorterStemmer\n",
    "\n",
    "ps = PorterStemmer()\n",
    "\n",
<<<<<<< HEAD
    "words = [\"python\", \"pythoner\", \"pythoning\", \"pythoned\", \"pythonly\"]\n",
=======
    "words = [\"wolf\", \"wolves\"]\n",
>>>>>>> 12467e3600c3f6b9373a65821d6283170bbb49be
    "\n",
    "for word in words:\n",
    "    print(ps.stem(word))"
   ]
  },
  {
   "cell_type": "markdown",
   "metadata": {},
   "source": [
    "### Two Minute Challenge\n",
    "\n",
    "Apply the Porter stemming algorithm to the tokens in the `df` dataframe. Visualize the results in the tree graph we have been using for this session."
   ]
  },
  {
   "cell_type": "code",
<<<<<<< HEAD
   "execution_count": 53,
   "metadata": {},
   "outputs": [],
   "source": [
    "# Put in a new column `stems`\n",
    "def add_stems(words):\n",
    "    stems = []\n",
    "    for words in words:\n",
    "        stem = ps.stem(words)\n",
    "        stems.append(stem)\n",
    "    return stems"
=======
   "execution_count": null,
   "metadata": {},
   "outputs": [],
   "source": [
    "# Put in a new column `stems`\n"
>>>>>>> 12467e3600c3f6b9373a65821d6283170bbb49be
   ]
  },
  {
   "cell_type": "code",
<<<<<<< HEAD
   "execution_count": 54,
   "metadata": {},
   "outputs": [],
   "source": [
    "df['stems'] = df['tokens'].apply(add_stems)"
   ]
  },
  {
   "cell_type": "code",
   "execution_count": 55,
   "metadata": {},
   "outputs": [
    {
     "data": {
      "image/png": "iVBORw0KGgoAAAANSUhEUgAAAV0AAADnCAYAAAC9roUQAAAABHNCSVQICAgIfAhkiAAAAAlwSFlzAAALEgAACxIB0t1+/AAAADh0RVh0U29mdHdhcmUAbWF0cGxvdGxpYiB2ZXJzaW9uMy4yLjAsIGh0dHA6Ly9tYXRwbG90bGliLm9yZy8GearUAAAgAElEQVR4nO3dd4AU9d0/8M/MbJ2tt3d7e7fXe6MKKIhE7IKJmCgaNcaWJ5ryGI2/RH3iE42PShKjqGkaNVFJYsGKQUUUkCIgSL/C9V72bve21ym/P8gREY6i3Ozt8X79xc58d+Yzy977vvedme8wsiwTAAAog012AQAApxKELgCAghC6AAAKQugCACgIoQsAoCDV0VaWP7h0u1KFwPH5/bXPJLuElHLrypuTXcK4YWxHH0spe393x8zR1uF/AQBAQQhdAAAFIXQBABSE0AUAUBBCFwBAQQhdAAAFIXQBYFyqfeKu6Uda3rnib4XD+z5NU7qekwWhCwCgoKPeHAEAoISBT953+Op3ZBARWatnDGbOucg1sk6WZep5/6X8UHeLWWUwxxmOk5JX6VeH0AWApAp1t/K++h3pJd/5aT2RTC3LHqsy5JcHRtZ767ZbY94hbfnN/7MvEfCpm194pIZqyJ3Mmr8KhC4AJFWoq9loKq7yclqdRERkKq4eDnU1mQ6u724xWcqnehiWI43FluCdBYHRtzb+YUwXYBzwr9uQPrjspfxk1wFjD6ELcBLIskyylNJDjUljyC8NBtoarGI8xoqxKBtoq08z5JUd7M0acksC/sY9NlkSKe4fVof7OkxH2954h+EFOC7drTHNL2/uKvvr2tLaZNcyXiQGXJqBPz1TrsnNCcZ7+wz85BpPpKHRKgsCw9dUeW2XL+olIur/w9Mlos+vkQWBNZ01Z8By3vwhogO9W9+a9dmsTiuqsx1hRqU6JR9YaMgpDlsqp7tblj1aRXTgRJohpygyst5aPdMb6mwyNz738CSV0RLTZeYEk1ftV4fQBfgKBM+wNv2aK9ukSNQT3rk7zXnPnfUkyzTwh6dLw7X1Rr6mKmi//pp2zmQSpViM6f31Y9XGWTOGZUFgfavXOLN/fns9x/Ni32O/r1A7s8PJPp5kcZx58YDjzIsHPr+s5ie/2UlExDAM5S64pjM5lZ18GF6A4yaKRPf/V1fRDWc31/zihs7iSEhir5ndNNnjElRERHs/DfO3XdZWIYkyXXdW0yT3QEJFRCSJMl039z+vJxLOYo7rK8pCkfoGc7Sl1dzz4G+rex56pDox6NYlXIM6IiLf6rWO7v/7TXXvbx+vEv0BdbyvXxdtbjVoCwsCKotFYNRqmZ862ZPsYwFlTLgfAhg7A90J3W0PZbXPmGcMPfij7sLlT7vtR2rHcgzNW2B2v/+K13btbXbXJ6sD5rxSbSTdoRaUrnmsMWr1gYFcmcg8f16f5fxzhj6/PryvzhRtajE5f3Z7A6vTSr2PPFEhJxLo7JzC8J8Pxy3NzsVnzDOGiIjO/6bFXbczbByt7de/kza07h1/OhHRB8t9GRdeYRkare1EoK+u9Ae37ciQIhGWiCjhdqsFr08lRSIcq9eJrE4rxbp7dPGeXgMRka60OBRr7zCJ/gAnCwIT3rMvZW9rhRODni4cN4aYw15zHMmSdOD8TywqHfwl7izQJCw2TtjyYcDUWh813Pd0bquy1SrLMG2yP9HXr+t95IlKIiJGo5Hs11/Txk+d4gts2mLvvv/hGlVGelST4wwREalsaQnLBef29v7uySpWpxU12Vmn7HjuqQahC8fNMyhodm4KGabPNYTWvO2zVZ2mD0bDElf3WYT/2iVq/4aV/kN6axcutg4uvbuv6KyLTW5OxYy22ZSldmTGc++75+DVHNYFF7isCy5wfbFd9u0/ajrS+83z57nN8+el7J1V8OVgeAGOmyNXHX37BU/mDWc31wT9kmrx99MHr70to/fZX7vyb7mopYrlmEMueTrnUosvFpG4hdekIVgA/g09XTguucXa+AvrD79Gd+bZxuCLG0r3Hek9Dbsi+twSbbikWhcd+wrhWDIWdie7hC9Fw4nJLuGkQujCmPjbI66s1a/57D99JLst2bUAjCcIXRgTN/4ss//Gn2X2J7sOgPEmpcZ0xVCI86z/6IjXho6ID7k07UsfrjnSus6nllZE2lv4o73fvXZVphSLpdTnAgCpI6XCRYyEOP9nWzPHch++bZsdUhyhCwBjI6WGFwbfeztX8Hm17U/8ulqfXxiIuwb0YizKkSQytvkX9ZqnzfASEcmSRL1/f64o5urjNen2SPa3b2hntdpDpoAK1u4xu9d94JRFkVFb02JZV17X7tuyIUMMBdXdz/2hnNXxQv6ttzcm50gBYKJKqdC1L1jU3bvsWX3hT+6uk0WRpHiM5fS8JAT8qq6nH680TT3NS0QkeD26zEWL2w2lFaG+l58vHN64xp5+3oKDk2kIAb/Ks/7D7Lzv/biR1eqkodUrszzrVjvsF1/a5/30E0fuzT9uVJnME+6WVQBIvpQK3UPIMjP47lu50a4OIzEMicGgRvB5VUREnNEUN5RWhIiITNNmur2bN2QS0cHQjbQ1GxKeIV3nU49XEhGRKDJaZ25KTxcHAKkhZUPXt22zTQyHVAU//lk9o1LJrb+9f7IsjEwk8oW7n5jD74bSFxT7nd/5Hi5nAgBFpdQJI1anF6V4nCUiEqMRjuMNCUalkoMNtSYx4NeMtBODfk24pdFARBTYvcOmzys8pBerLywJRXu6jLGBPi0RkRSLsrH+Xi0REavRiFI0klKfCwCkjpTq6aqMJlGXkxtsX/pwjTbLGYp7hnTtjz9crXU4w6o028G7nlRWW9S7ZUPmwNuv8pp0ezTtrHMGD9mO2SJkLlrc3v/qsmJZFBkiIts5F/Zos5wx87RZQz0v/qWcM5jiOJEGACcbI8ujPyGk/MGl2xWsBY7D7699JtklpJRbVt2U7BLGjaLyvmSX8KWk4m3Aq85+fOZo6/BnNACAghC6AAAKSqkxXSB66Cc3JruE1LIw2QUAHAo9XQAABSF0AQAUhNAFAFAQQhcAjkv737dkbrn2uZoN3/jDtNZnN2Ylux4iolDnsGbDtc8fcSrXI+l4fVd6pN+vHnnd8sLWTCEcP+EcbPj9x07XxhbTib6PCCfSAOA49b+3zz71kSsa9U5r4kjrJUEkVsUpXdYJ6VvdkGEutUf0WeYEEVH3ir2O3K9P8qh4jXSs946QRIkq//vs3i9bA0IXAI6p7qF382ODQe2eu98oc5xXNRTp8+qq7l7Que/+FYWsWiWF2oZ4U2VWMO+KGYONSz/MTwQiKlajkir+34UdptLMsX1GnijTzv9ZURRsc/N8blpk6q8Wtrc8v9Xh3tZhFeMCa6lwBCf/78Udve/XpQXb3PzeJauKWbVKyj6/Yijujai33fZaucqkFWY/9e3GgfXN5tYXtjolQWR0DnNsyi8XtKuNWunjy5+dbJ9b7Bne3W0uuGJ6/9C2Dot9TpEvZ0HN8ImWi9AFgGOq/sXCzk92d1mmLb2qcfDjRgt97ua2uDuomfn0dxoYjqUdP36pvPynF3QYizNiwzs7DY1LP8yf8cdrxvR2+ki/X1d157ntGbMKQrvvW1nY/vJn9sKrZ7gqfjivj4ho573vFPV/1GjJWVAz3PX23syKH8zrSpuaEyY60NOd9eQVjdp0gxBzh1Rtf9+WPevJxY0qg0ZqeuaTrNYXP3WMbEdt1glzX/huPRHR0LYOy5etF6ELAF9JxryyYYZjSQjF2ECzy1j7wDslI+vkhHT4FH8nmcbGxzNmFYSIiLIvrHJ3vrErU59tiXUs35ElxURWCMVUxgJbhKjCd7TteHZ1G8K9Pt2WW1+uJCKSBYkxV2QenCzLeVHVCfdqjwShCwBfCadXS0REsiSTitcIZzx/Y12ya2r884aCM/58VR2fY03s/+N6pxQXj32yTCayTnb6T1ty6RGnfD2Rcd+jwdULAHBSqE06SZthjPe9ty+NiEiWZfLV9erHer9xT1jj/qzTQETUt7rBZq3JDhIRaWwGIRGMsa5PWtNG2nJ6tSiEYgfP9nE6tSgEDzwTMW1aTsi/f8AYbHNriYiEUJwNtAxpT3a96OkCjBOyKBLDje+z/8dSde8lrY2Pri7ofHlbtixKTMZZpR5LtTMylvvUZ5mjnW/szqz73Uc8n2uNFn57xmAiGOM2fffFGo1FL5hK7KGRts4Lq4bqn1xXsP/PG6XZf7m63nlx1dBnd71VrrHy8dlPfbux+s7z2vc88F6xlDgw5WvJ9Wf0mEoyYiezXkztmGKyPsWj205E58KxGVL0vPq2kzXwgvWSC1xERJ5X3sxhTcYECSIT3r3PJgsio59U5bUtvrSXiGjgiadLRK9fIwsia/za7AHLBfOHiIg6b/uf6YbTpw9Gm9rMtqsWdeqrK8bssVGY2lE5mNoR4CQznT1nKLx9VzrRgadPh3fVpnFmcyIx6NZl33tnvfO+n9XFu3v4yL4GIxFRxo3XtDvv+1l99r131AU3bHGI/gBHRCQnEqymqCCU86uf141l4ML4geEFGFU4OKip3frXslnn3VU7ssznbuX7O7elV0y/qut4t9Na+46T5TRiYeVFA3XbXiy0Oap8WfmzTsqZ4GRROzLjLK8Xoi3tetHnV6udjnC8o8sQa2o19/7qkWoiIjmeYBMDLp1+UmXQt2qtI7KvwUpEJPoD6nhvv05vNoWIYcg4e0ZKfxZwYhC6cEIs6cVhS3pxONl1jAeGObOGgpu2Zkj+oNo453R3tKHRZDp3Xp/lwgNDByPCe+tNsaZWU/Y9P2lgdVqp79dPVsgJgSUiYlQqKdXHceHEIHThuIQDA5q67S+WZmRPcfs9baYpZ97a3Fr7jjMW8WqikWFtPBrQZBecMZBffr6LiKitbmXWYO/uDJXGkNBqzXGDxTnhgtp4xmle33sf5ZAkMfbpk1oZjpW9Kz9wmuad4WH1ekkY8qhJxclSOMIxep3I6rRSvKtHF+/uNSS7dkgehC4cU9DXq23Y8Y+S8mlXtgnxsMrvaTs40Uck5NZNPetH+8VEhNu+9neTckvnDwaGu/RD/bW2GfPvrJMkkXZ+vLR6IoYuo1bL2pJCP6vXiQzHET99sj/e16/rW/JkJRERo1VLGTde08ZPn+wLbtxi77l3SY3Kbotqcp2hY20bJi6ELhyVkIio6ra9UFo187oWkzU36hmoP2RmpTR7mZfj1DLHqQW1hk/EIj6Vd6jZaMus9HIqrcQRkTWz3Juk8seULEkU7+w22v/rupaRZdaFF7isCw9c0fB5WXf+sOlI28h/8uGdY1kjjD+4egGOilNpRK3OHPe5W4xHWs+wqs9dc8iQLI/9bZ/jQayzW9fzi4cn60qL/Jqc7JN6HSdMbAhdOCqG4eSaM25ucfXsSu9r32I7nvdY7aXBYVeDVRRijJCIsN7BJutY16k0bX5uNHfJvXvTv7O4O9m1QGpB6MIxqdQ6afLs7zX3tm9yCInoMb8zFltROD2rxvPZukdr9mz+S5nBnI0xTIB/O+odadd/ejPuSBtn2h6sTHYJKWWs7khLRbgjTTm4Iw0AYJxA6AIAKAihCwCgIIQuAICCELoAAApC6AIAKAihCwCgIIQuAICCMOENTGgFK07KA1zHLfnOweNuK8qp0ccKv5Sd7BK+urNHX5Ua/wsAABMEQhcAQEEIXQAABSF0AQAUhBNpKeb+J59Ndgkp5Vc/vDnZJQAcAj1dAAAFIXQBABSE0AUAUBBCFwBAQQhdAAAFIXQBABSE0AUAUBBCFwBAQQhdAAAFIXQBABSE0AUAUBBCFwBAQQhdAAAFIXQBTlA4OKj59OPf1nx+mdfTyu/f82rekdpvWfPQ5HjUPy5n9Nt0yePTk11DskS9Ls2+5Utqjt3y5BqXXwSAVGO1FYettuJwsuuAw8mSSAzLJbuMg1I+dP/xtRemX7v++p3JrgNOTeHggKZ2x7JSe9Zkt2+43TT1jFua47EAV7djWXE8HtAYzblBIjnZZR6TLMvU/PjqXO/OTgsxJOdddXpf1sIpw54tLaaOZZudapMuEe726A1F9nD1A5e1MQxDg+saLG3Prs/ltGrJWJEVjA34tVMevap5LOqLel2aplXPlOlt2eHIcB+vM9sjxedd31772q9rqhbdUa/mzUKgv4Xv3vpOXtWi2/d3bXnbGQt4tPHQsFbDW2L5cy/val//ckE85NUSEeXP+VaHxmBNyLJErWuWFYSHuowqvSledvH3mzm1Vh7Yuy5jqGmbXZZERmtMixWfd0Mbp9ZKQ/u3pvXvWeMkhpE5tVasWnTH/hM9lpQPXVDGwqqm6e/Wl+3s706ol/5iIO83L+S2vvH8cHrjnqjh7seyO5NdXzIE/b3a+l3/LKmYvLgtkQirfMPtJiKitv3vOU3W/GBJ1df7XH27LUP9ezKSXeuxuD6otYbahvQz/3ZTbdwTUu384d+rrDMKg0RE4Q63/rS/XN+qyzIndt66rNK7vd1onpwbavnjmoIpj17VwOenx2vvfaNorGuMBz26grlXtJtzK0ItH71QOLBnrf1o7WP+QV3lpT9p4NRauWnVs8XGrOKAc/qFLbIkkhiPckI0xMWDw7qis69tNToKO5pWPVPsbt6ellk112MrmTHsmDx/iIioc/ObTlfthozsaee7+vesyS67+PuNWlN6QoiGvlT3ecKM6cqyTJuXbMp98/LlNW9e8Vp109v704iIPvrpB8Vtq1stI+3W3f1RYfM7jWmSKNHmJZtyV1z9RtWbV7xWvW/Z3nH/gzEeZOWqE795Ibc12XUkm5AIq2p3vFhaOfXbrea0gsjn1/m9nabsvFluIqLM7Kk+TqUVk1Pl8fPt7TbZz67wMBxLWrtJMFdlB/37unkiIkOxPaR3WhMMyxJflBGO9Pk0oRaXTms3xfj89DgRkf2cSs9Y16jSm+Lm3IoQEVF66Ux30NVuPFp7c26ll1NrZSKikKvdlDX5nEEiIoblSKUziEREGt4SMzoKI0REfHpOOB7waImIwu5uff1bSyv2LV9S7W3fkx4Z7tcREfEZecG2df8sHNi7LkOWpC91HBMmdFtWNlu9LcP6Ra9eXnvhHxc07nx6R26wL6guPL/I0/FhWxoRkRgXGddul7ng/CJv/Uu1GRqjWrz0pW/Vf+Mfl9W3rGyy+9q9mmQfx3jX1RrXXDe/7bCTD2vfCVi+v7Cj0u0SVBveD5i/v7Cj8sYL2qvuvqG7OBQQJ8z3bATHaUWt1hz3uluO+oM/EbBq7uD4CMMyJIsSk4w6jrhThpVl+UB5kpA45HvGqTTHTEWGU/3n2BhWlqUDx9ax8dWivDO/2Tlp8T11WVPO7ZUlgSUiKj7nO53OGRf3xkNeTf3bj1UnwoET7u1OmB8G165+U8H5RR6WY8ngMAj2GnvQtXuALzi3yOfa6zIJMYHp+KjNklGTEVDr1XLftl5z+4dt6W9d+Xr1v657uyoejKu8bV5dso8jFX3wht/6yl88Wb9dltNERPTPP3myl76a2/i31YX1ZTW68LInPY5k13iyMSwnT5p1U8tg36703s4tts+vM1vzA/3d29OJiAb79phFITZ+zuKMwjIlNzC0odEmixLF3EFVoKHPaJ6cGxqtvaHYHo0NBrThLo+GiGhw3X7baG1PlkQkoPH3NBqIiDwtn9mMmYVBjcESDw608UREw22700Z7r9FRGOjfe2A4QpZEOtbQgCTEWY0hLSGJAuNp3XXw2CLD/VqzsyyUN/uyXk7LC7GA+4Q7ahN+TFelU8n2SfZA59oOc/uHbWmFFxR7iIhkmZiZPzmjs+DcQn+ya0xl+z6LmlrqY/xjL+U1mqyctGaF39LTkdD9aFFnJRGRIBBTPkkbTHadY0Gl0kmTZ32veffWp8vzS87pHVleVLGgt27HsuJPP/5NjcmcG9RoTfFk1nk8Mi+o8fpre43bb/xrDTEkF9wwt1uXaRbCrYNHbM/pNXLxD87p2HfPa2WcVi0ZSuyjBvTJojHaoq66jZkdm5bzOnNG1DHlnEGDozDUuem1wr6dH4hGR1FgtPfmz72is/3jlwr2NS/JIIY5eCJttPZZU87rbVjxeBWn5QU+PTco/fsXZ9fWt3P/PQTBGB1FfkPmoUNLx2PChK5jelag6e399srFVe6oJ6oaqh00nn7n7C4iosILioebVzRmDDcPG85ecm47EZHzdKdv/xsN9tx5eQFOzcnDTR6twWlMaAzH/pME/sPhVMVcvYK2bX9MN+UMPizLRJNn6v0PPZfTluzaxgpvtMdPP/vntUREao1BnDnvp/VERJnO6T4iIo3WJE6b88OmZNZ4vOauvH0nERHDMFR2x4XdRNT9+fW22SUB2+ySg2FWcdfCgydNbWcUBzLPraqVZZn2//rdfGOZY0yDl2FZKr3gpkO+V5bcyuDkq+7d98W2ebMX9X7+tcZgFcoX/qDli+0mLb6nduTfzhkXD4z8O2vquYNZU8897DdO+cW3HLaNEzVhQrd4YanXtcdlfPvK12uIYeRpt5zWbcgyCkRE+fML/FuWbCrKPj3Hy2kOjE9VXzNpKNgX1K64+s0qkmVGa9Ymznv8wq/8gZ5q7Nmq+A/utXff/8O+kv/9fXbL1Nl86KmHBvPbGmPaonJtLBQU2YEuQV1cpY0lu1Y4uXpe/yxjcG1DhiyIDF+YEc69YuZQsmtKBSkfuiPX6DIMQ3PumXvYb2oiIk7NyVevuW7X55cxLENn/GxODxH1KFPpxFVao4ve/WhW6//9d1/Jg886m+942NH+4H/3FQsJmSEiuu629B6E7sRT8N0zXQXfPdOlxL501sz453ulqSzlQxeU8W592U4iorxiTXzZuqJaIqJv3ZDmJiI3EdGkmfrI3z8+sLywTBs783xjfdKKBRjHJszVCwAAqQChCwCgIIQuAICCELoAAApC6AIAKAihCwCgIIQuAICCELoAAApC6AIAKAihCwCgIIQuAICCELoAAApC6AIAKAihCwCgIIQuAICCMJ9uisniJuTjxsbMn59+4rBlPIMnMn1Zt075+pjvgyfvmO9jzD07+ir0dAEAFITQBQBQEEIXAEBBCF0AAAUhdAEAFITQBQBQEEIXAEBBCF0AAAUhdAEAFITQBQBQEEIXAEBBCF0AAAUhdAEAFHTUWcbq/lyjVB1wvB54P9kVAMBXgJ4uAICCELoAAApC6MIh2loEzYKvDYzZuNLRtv/3vwbTe7oE9Vjte7x74D6/84NVUVOy65hI2qK77Z3R2vRk1/F5eHIEjBvvvBnJqKxRR3LyVIlk16I0QZDpl78y9ya7jommSDd1MNk1fBFCFw4jikQ/vsld1LRf4AuKVZGlT6W1b90UMzy2JJAnijJVVqvDSx5P69DpGHn+rP7Jy1fa6+2ZnLB9a4x/5EF/3ivv2Pe7BkTVHbd6itxDkqZmsjr42adx8/J37fVERJJIdOePPAW1exLGDDsb/8vf05tX/Stqbd6f4O+5w1us1TLSqysz6nmelZP9WZwMrS2C5vrrhssqK1Xh/Q0CX1TMRf70lLX93PlDNRdcoPVs3RI33/Q9Q//6j2OWc8/T+hZfxQ9v2Rzn/+9+f34kKrMaNSO/8rptv8HASL+815/72faEKRGXmauu4V233GoYSvbxjaXOaJ2tK1bvkEliTFx6aLJhfse+8Mf5fsFtkEhkM9X5w5X8nF4iorrwppyhRLeVIUa2qbL9NYZ53Q3hLU6OUYtl+hkDyT6WERhegMP0dIm6q28wuFZtctQaDIz058cDjvvv9hU9+qe0lvfWO+pEkeivTwXtR9vG0l/7nTPP0Abe3+CovfAS/fCgS9KMrOvtEXXX3WR0vb/BUWs0suKK1yJp37ySHy6tUIeXLLW2/mttZt1ECdwR3V2i7rvX8671n9hrDUZGevqpkJ2IyJrGCqvX2uuvvpYfHmkbi8nMHbd5S/73fnPnmo/tdS+/ZtvP84z012fDGSYTK676MKP+3Q8y6l9fHrG3NAua0fea2vzCkG4g0WabY76s4SzL4jqGYeXuWH16hX52z1mWK+rPMi+uHRYGTF7BpY9JYW4w0ZU2z3xl7TzLlXVl+ll9ya5/NOjpwmEy7Gx87td0ISKiSy/n3U//PpCdlc3FKqrUMSKiyxbr3S+9EM4kItdo29i7K2F88hljMxHRRZfo/UajVxxZ58jiYtNmaCJERJWT1OHuLkE7pgc0DtjtbHze2doQEdG3Lte7n/9rOJOI6PIr9MNfbFtfn9DZ0tnE7DmaMBGR1cpKRESbNsbMLc0C/+HqaBoRUSgoc01Ngq6kVBVX7kiUM5ToNgXEYf4T/xtVREQiiayG0Qm98UZbT6wpQyaJictRdUD06MxcRoQlTtodWlNoV+d5szQlvmTXPxqELhyGYQ59bTSyot8nHfG7wnEkS/9+uG40Kh/XX05qDR3sxXIsyTFx4v/F9cXPdOS1wXj8jyaWZWJ+8Utz54KFOv/JrG28kklmsjRF7mp+bs/IsqDo1XwWeK98jvmyeg2rF3cGPyyUZJFlGZbONH+zfjDRae6Pt6V1xeozZ5sXNSaz/tFM+C87nLhBl6TZvDFmICL615thW9UkdWigX9Q07U9oiYjefj2SftrpmgARkSOLi+/cHueJiFb960APjIho0lR1cMUbERsR0er3IuZgUOaOtV+eZ8Rg4NjtUpHLJWk2bTjwmb71RtR22gx1cLS2VVXqqMctqbdsPvC5+nwSm0jIdNY8re8fy8L2eFxmiIjq6xPaYECasD/DGeo8/2CiMy0qhVRERDEpwkUkv4ZlVJKa0YlRKagaFvosREQJOc4m5BiXpSn2VfNzu0KSj09u9aNDTxcOk5PHRf/xt1Dm/Xd5+fwiVfSBnxi7ps9Uh+64dbhk5ETajbcYB4mIfnC7qfdX9/gK//R4QJw+40AQExHdcbe59/ZbPMULvjaQXj1ZHbSmsQmTmRWDAXHUkLj0Cn7ooV/6Cn73kH9CnUgjIsrN46LPPx/OvOcuP19YxEW/f4t58OWXIplHaqvVMvLSJ60tv7rPnx+LyaxWy0ivvmZrvPm/+KHublF70XlDVTIRY7WyiZxnzWMAAAmJSURBVL+9mNai9LEoxaLKiJbopvdsD7xbLpNMDLFyFT+n08ilhdf7X5mkZfi4mcsIEhEJUpzbEVxVKpHIEBGV6mZ0Jbf60TGyPPr3etaNj21XsBY4Di888GiySzgu0ajMcBzJajVDmzfGDA/9r6/gX2sz65JdFxERf/x/0Z8UrS2C5qYbhsvWbbDXKrrjMXDrlK8nu4SU8L7nmZmjrUNPF8ZEZ7ug+ekPhktkWSaVipHvW2JpT3ZNAOMBQhfGRHmlOjZeerbJVlyiik+EXi6cHBN2EB4AYDxC6AIAKAihCwCgIIQuAICCELoAAApC6AIAKAihCwCgIIQuAICCELoAAApC6AIAKAihCwCgIIQuAICCELoAAApC6AIAKAihCwCgIMynm2Iue/H/JbuEU47CD5oY3+4YfVXRE/XK1ZHC0NMFAFAQQhcAQEEIXQAABSF0AQAUhNAFAFAQQhcAQEEIXQAABSF0AQAUhNAFAFAQQhcAQEEIXQAABSF0P8fdst0acnfrkl0HAExcEzZ0JUk84fcMd+6zRjy9+jEoBwCAiFJ4lrGube9kD3fsTldp+ISat8T59Jywr6fBqrdmhUNDnca0gikes7M80PXpijxJiLMqLS8Ufe3adq0xLdG/b13GUPM2uyyJjNaYFis554a20GCH3t/bZA0Ndpj6967JLjn3hha9NSuW7OMEgIklJUM30N/C+7pq02ou+3mtLIpM3YrfVfPpOWEiIlkSmUmX/bxeEgWmfuUTFWXnf69Zw1uEwcYtad3bVuSUnHN9e3rJjOGsSfOHiIg6t77pHKjbkOGcer7L7CzzWnOrfRllpw8n9wgBYKJK1dA1mnMrvZxKI5OKZLOzwjuyzlZ8moeIKDLcq435h/SN7/+5nIhIlmVS6Y0JIqKQu1vfu/P9HDEe5SQxzpkcJb7kHAkAnGpSMnSPhlNpDkw5LROjNWVEahbd2fDFNh2fvFpUMv/6ZmNmYWSgbkN6YKDFpHihAHBKSskTaaaskqC/Z79FFOKMEI+w/t5G6xfb6G3ZUSEeVvl7Gw1ERJIoMKGhLh0RkSTEWY0hLSGJAuNp22UbeQ+n0opiIpqSnwkApIaU7OmaskrClpxKX+2bv61R6QwJncUe4dS6Qy5XYDm1XHL2dS2dW9/MF7e8wZEsMfaKMwcMGXnRrMnn9davfLxKpeEFPj03KAoxjujA0ETn5tcLB/dvdpSccz1OpAHAScfIsjzqylk3PrZdwVpOiBCPsCqNXhITMbZ+5RMVBXMWd5gcReFk1zXWfKVMsks45eAZaccHz0j7j/eH/jJztHUp2dMlImpb/8+CmH9QL0kiYyua5j4VAhcAUl/Khm7Z+Te3JbsGAIAThZNGAAAKQugCACgIoQsAoCCELgCAghC6MK7EB12a9scerkl2Hams5ZH7JwsBf8qeJJ/oELoAE4j8JaY0BWXhtyF8JYPvr8gO7tudzun5hMpsiWuzc8J8eZXftWJ5gZwQWJU1LZZ15XfaVQajGOls1x9xeXsrP/DWK4VERPrCUn+SDylphj56z8FwnJw+/0JX/1sv58Vd/fr879/eGGzYZ/J9tjXDUF7tG960NouIGL6k3Ov4xhU9RERND9w13TT1tMFIe6s5c+E3O0e2J8VjTM+yZ0oNlZOGbXMPzKo3EYREr2aHf1XZvLSraomImsLbHaKc4NSMVuiJNdoZYmWeM0dnmC9uFaQ4uy+0Pj8kevUyyUyxflqvU1vmPdY+xhJCF760cFszH2qoSyu47a5aWRSZzj88Uq3NzgkPvP5SkX3hok5DRXVwcOWbTveqfzkd3/p216jL33yl0H7JZZ2G8qrgwFvLc5N9XMnCF5UGPRvXOojIFevr5WVRYGVBYMLtLUZ1ekbUvfb9nIJbf1rPGYxC13O/L/fv2m41T5vplYUEq88tCGUtuqp7ZFtSLMr2vvy3YtOUGe60M85yJ/GwFNMRrc06O+3qvRyjkuNSlCMiagxvy7apnf5ppvPb41KU2+x7sypTXeBXsZqk3WeI4QX40iJtLUZDeaWX1WhkTq+X+NIKr5SIs1IsyhkqqoNEROZZc9yRrg6jGA5xR1we+vfy8qogEZFlxumnREAciT6/KBx39RnESJhlVJysy8kLhjta+WhXu4nT6UV9XkFAZbYIDMeRadJ0T7i9xUhERAxD5umzDpkDuucfz5Wap84cOlUCl4jIwFkjOwOrizqjdTaGWJmIyCP0mTsie7M3Dr9a/alvRYUki0xY8muSWSd6ugDjBKNSySqzNebdujFDl5Mf1GblRMItjaaEd1irTkuPx/q6+SO+j1NJDMsdskyXkx8MNe+3WGad6WGYiTVfB0OsLNN/5oyRZJElIpplvqRpKNFlcsU7LO2RPdlnWa+sJZJpqun8ZrMqfdxMXoWeLnxp+qKSYKhpv0WKxxkxGmHDLY1WVq2RWJ1ODDXWG4mI/Nu3pOvzC4IcbxCPuNxgEFmtTgw1NRxYvmOb7Wj7nOh0eQVB76ebHHxRaYAvKQ/4d22zazOzwvqC4lCkq9MkBPwqWRIpULvLxheVBkfbjv2ib/RyOr3Q//o/85WsXwk61iAk5JgqJoU5URaYoUS3RSaiiOTXZGoKAtWGuT2CnOAEOc7ZVE5/R2SvY2Rir+FEf9KfgYieLnxpfFFp2FBW4et48jc1HG9IaDIyI6xOLzq+dXWba8XygsGVb7EqqzWWdeV17UREoy7/5lXtA2+9UjhIDOmLSk7ZE2lERHxhacC7dWOWvrgsxGl1EsOpZF1eYVBtTUukn3NRT9dzfyinf59IM0+dcdQTQo5vfrur75UXCgdWLM91XLq4+2htUwnLcHKhbnLfZt9bVVpGn+A5c5RIYnYH1hSJcoIjIiZXV+HSsDqx3HB6b21wQ/5G76vVMsmMjjXGTrd8vTmZ9afs1I6nqvE2taMYjbCcTi9JsRjb9fTjFZmLFnfoC4on1IxvmNrx+GBqx/+YkFM7wvgwsPwfBXH3kF4WBMY0ZZp7ogUuwMmG0IWvxHnd9zDFJsAJwIk0AAAFIXQBABSE0AUAUBBCFwBAQQhdAAAFIXQBABSE0AUAUBBCFwBAQQhdAAAFIXQBABSE0AUAUBBCFwBAQQhdAAAFIXQBABSE0AUAUBBCFwBAQQhdAAAFIXQBABSE0AUAUBBCFwBAQQhdAAAFIXQBABSE0AUAUBBCFwBAQYwsy8muAQDglIGeLgCAghC6AAAKQugCACgIoQsAoCCELgCAghC6AAAK+v9ajj8cAaO33gAAAABJRU5ErkJggg==\n",
      "text/plain": [
       "<Figure size 432x288 with 1 Axes>"
      ]
     },
     "metadata": {
      "needs_background": "light"
     },
     "output_type": "display_data"
    }
   ],
   "source": [
=======
   "execution_count": null,
   "metadata": {},
   "outputs": [],
   "source": [
>>>>>>> 12467e3600c3f6b9373a65821d6283170bbb49be
    "wc = count(df['stems'])\n",
    "\n",
    "wc_top20 = wc[wc['rank'] <= 20]\n",
    "\n",
    "squarify.plot(sizes=wc_top20['pct_total'], label=wc_top20['word'], alpha=.8 )\n",
    "plt.axis('off')\n",
    "plt.show()"
   ]
  },
  {
   "cell_type": "markdown",
   "metadata": {
    "toc-hr-collapsed": false
   },
   "source": [
    "### Lemmatization\n",
    "\n",
<<<<<<< HEAD
    "You notice immediately that results are kinda funky - words just oddly chopped off. The Porter algorithm did exactly what it knows to do: chop off endings. Stemming works well in applications where humans don't have to worry about reading the results. Search engines and more broadly information retrival algorithms use stemming. Why? Becuase it's fast. \n",
    "\n",
    "Lemmatization on the other hand is more methodical. The goal is to transform a word into's base form called a lemma. Plural nouns with funky spellings get transformed to singular tense. Verbs are all transformed to the transitive. Nice tidy data for a visualization. :) However, this tidy data can come at computational cost. Spacy does a pretty freaking good job of it though. Let's take a look:"
=======
    "You notice immediately that results are kinda funky - words just oddly chopped off. The Porter algorithm did exactly what it knows to do: chop off endings. Stemming works well in applications where humans don't have to worry about reading the results. Search engines and more broadly information retrieval algorithms use stemming. Why? Because it's fast. \n",
    "\n",
    "Lemmatization on the other hand is more methodical. The goal is to transform a word into its base form called a lemma. Plural nouns with funky spellings get transformed to singular tense. Verbs are all transformed to the transitive. Nice tidy data for a visualization. :) However, this tidy data can come at computational cost. Spacy does a pretty freaking good job of it though. Let's take a look:"
>>>>>>> 12467e3600c3f6b9373a65821d6283170bbb49be
   ]
  },
  {
   "cell_type": "code",
<<<<<<< HEAD
   "execution_count": 56,
   "metadata": {},
   "outputs": [
    {
     "name": "stdout",
     "output_type": "stream",
     "text": [
      "This    this\n",
      "is    be\n",
      "the    the\n",
      "start    start\n",
      "of    of\n",
      "our    -PRON-\n",
      "NLP    NLP\n",
      "adventure    adventure\n",
      ".    .\n",
      "We    -PRON-\n",
      "started    start\n",
      "here    here\n",
      "with    with\n",
      "Spacy    Spacy\n",
      ".    .\n"
     ]
    }
   ],
   "source": [
    "sent = \"This is the start of our NLP adventure. We started here with Spacy.\"\n",
=======
   "execution_count": null,
   "metadata": {},
   "outputs": [],
   "source": [
    "sent = \"This is the start of our NLP adventures. We started here with Spacy. We are starting here with NLP.\"\n",
>>>>>>> 12467e3600c3f6b9373a65821d6283170bbb49be
    "\n",
    "nlp = spacy.load(\"en_core_web_lg\")\n",
    "\n",
    "doc = nlp(sent)\n",
    "\n",
    "# Lemma Attributes\n",
    "for token in doc:\n",
    "    print(token.text, \"  \", token.lemma_)"
   ]
  },
  {
   "cell_type": "code",
<<<<<<< HEAD
   "execution_count": 57,
=======
   "execution_count": null,
>>>>>>> 12467e3600c3f6b9373a65821d6283170bbb49be
   "metadata": {},
   "outputs": [],
   "source": [
    "# Wrap it all in a function\n",
    "def get_lemmas(text):\n",
    "\n",
    "    lemmas = []\n",
    "    \n",
    "    doc = nlp(text)\n",
    "    \n",
    "    # Something goes here :P\n",
    "    for token in doc: \n",
<<<<<<< HEAD
    "        if ((token.is_stop == False) and (token.is_punct == False)) and (token.pos_!= 'PRON'):\n",
=======
    "        if ((token.is_stop == False) and (token.is_punct == False)) and (token.pos_ != 'PRON'):\n",
>>>>>>> 12467e3600c3f6b9373a65821d6283170bbb49be
    "            lemmas.append(token.lemma_)\n",
    "    \n",
    "    return lemmas"
   ]
  },
  {
   "cell_type": "code",
<<<<<<< HEAD
   "execution_count": 58,
=======
   "execution_count": null,
>>>>>>> 12467e3600c3f6b9373a65821d6283170bbb49be
   "metadata": {},
   "outputs": [],
   "source": [
    "df['lemmas'] = df['reviews.text'].apply(get_lemmas)"
   ]
  },
  {
   "cell_type": "code",
<<<<<<< HEAD
   "execution_count": 59,
   "metadata": {},
   "outputs": [
    {
     "data": {
      "text/plain": [
       "0    [order, 3, item, bad, quality, miss, backup, s...\n",
       "1                [bulk, expensive, way, product, like]\n",
       "2                             [Duracell, price, happy]\n",
       "3                  [work, brand, battery, well, price]\n",
       "4                  [battery, long, last, price, great]\n",
       "Name: lemmas, dtype: object"
      ]
     },
     "execution_count": 59,
     "metadata": {},
     "output_type": "execute_result"
    }
   ],
=======
   "execution_count": null,
   "metadata": {},
   "outputs": [],
>>>>>>> 12467e3600c3f6b9373a65821d6283170bbb49be
   "source": [
    "df['lemmas'].head()"
   ]
  },
  {
   "cell_type": "code",
<<<<<<< HEAD
   "execution_count": 60,
   "metadata": {},
   "outputs": [
    {
     "data": {
      "image/png": "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\n",
      "text/plain": [
       "<Figure size 432x288 with 1 Axes>"
      ]
     },
     "metadata": {
      "needs_background": "light"
     },
     "output_type": "display_data"
    }
   ],
=======
   "execution_count": null,
   "metadata": {},
   "outputs": [],
>>>>>>> 12467e3600c3f6b9373a65821d6283170bbb49be
   "source": [
    "wc = count(df['lemmas'])\n",
    "wc_top20 = wc[wc['rank'] <= 20]\n",
    "\n",
    "squarify.plot(sizes=wc_top20['pct_total'], label=wc_top20['word'], alpha=.8 )\n",
    "plt.axis('off')\n",
    "plt.show()"
   ]
  },
  {
   "cell_type": "markdown",
   "metadata": {},
   "source": [
    "## Challenge\n",
    "\n",
    "You should know how to apply lemmatization with Spacy to a corpus of text. "
   ]
  },
  {
   "cell_type": "markdown",
   "metadata": {},
   "source": [
    "# Review\n",
    "\n",
<<<<<<< HEAD
    "In this module project, you've seen us apply Natural Language Processing techniques (tokenization, stopword removal, and lemmatization) to a corpus of Amazon text reviews. We analyzed those reviews using these techniques and discovered that Amazon customers are generally statisfied with the battery life of Amazon products and generally appear statisfied. \n",
    "\n",
    "You will apply similiar techniques to today's [module project assignment](LS_DS_411_Text_Data_Assignment.ipynb) to analyze coffee shop reviews from yelp. Remeber that the techniques of processing the text are just the begining. There are many ways to slice and dice the data. "
=======
    "In this module project, you've seen us apply Natural Language Processing techniques (tokenization, stopword removal, and lemmatization) to a corpus of Amazon text reviews. We analyzed those reviews using these techniques and discovered that Amazon customers are generally satisfied with the battery life of Amazon products and generally appear satisfied. \n",
    "\n",
    "You will apply similar techniques to today's [module project assignment](LS_DS_411_Text_Data_Assignment.ipynb) to analyze coffee shop reviews from yelp. Remember that the techniques of processing the text are just the beginning. There are many ways to slice and dice the data. "
>>>>>>> 12467e3600c3f6b9373a65821d6283170bbb49be
   ]
  },
  {
   "cell_type": "markdown",
   "metadata": {},
   "source": [
    "# Sources\n",
    "\n",
    "* Spacy 101 - https://course.spacy.io\n",
    "* NLTK Book - https://www.nltk.org/book/\n",
    "* An Introduction to Information Retrieval - https://nlp.stanford.edu/IR-book/pdf/irbookonlinereading.pdf"
   ]
  },
  {
   "cell_type": "markdown",
   "metadata": {
    "toc-hr-collapsed": true
   },
   "source": [
    "## Advanced Resources & Techniques\n",
    "- Named Entity Recognition (NER)\n",
    "- Dependcy Trees \n",
    "- Generators\n",
    "- the major libraries (NLTK, Spacy, Gensim)"
   ]
  }
 ],
 "metadata": {
  "kernelspec": {
<<<<<<< HEAD
   "display_name": "U4-S1-NLP (Python3)",
   "language": "python",
   "name": "u4-s1-nlp"
=======
   "display_name": "U4-S1-NLP-DS11",
   "language": "python",
   "name": "u4-s1-nlp-ds11"
>>>>>>> 12467e3600c3f6b9373a65821d6283170bbb49be
  },
  "language_info": {
   "codemirror_mode": {
    "name": "ipython",
    "version": 3
   },
   "file_extension": ".py",
   "mimetype": "text/x-python",
   "name": "python",
   "nbconvert_exporter": "python",
   "pygments_lexer": "ipython3",
   "version": "3.7.0"
  },
  "toc-autonumbering": false,
  "toc-showcode": false,
  "toc-showmarkdowntxt": false
 },
 "nbformat": 4,
 "nbformat_minor": 4
}
